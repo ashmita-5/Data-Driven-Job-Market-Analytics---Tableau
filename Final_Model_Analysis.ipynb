{
 "cells": [
  {
   "cell_type": "markdown",
   "id": "f70642ac",
   "metadata": {
    "papermill": {
     "duration": 0.01293,
     "end_time": "2023-09-01T14:04:52.597909",
     "exception": false,
     "start_time": "2023-09-01T14:04:52.584979",
     "status": "completed"
    },
    "tags": []
   },
   "source": [
    "# **ABSTRACT**"
   ]
  },
  {
   "cell_type": "markdown",
   "id": "2e35e382",
   "metadata": {
    "papermill": {
     "duration": 0.011852,
     "end_time": "2023-09-01T14:04:52.622125",
     "exception": false,
     "start_time": "2023-09-01T14:04:52.610273",
     "status": "completed"
    },
    "tags": []
   },
   "source": [
    "In this project, we use a comprehensive approach to analyze and predict employee salaries. The methodology begins with Exploratory Data Analysis (EDA) that employs various visualization techniques such as heatmaps, distribution plots, and pair plots to understand the underlying structure and correlations in the data. The EDA phase helps to identify critical features and their relationships, setting the stage for more informed feature engineering and model selection. Post-EDA, we use XGBoost, a gradient boosting framework known for its speed and performance, to train the predictive model. One-hot encoding is utilized to preprocess categorical variables, making them compatible with the machine learning algorithm. The trained XGBoost model then allows for custom predictions, enabling users to input specific job-related details for personalized salary estimates. For handling performance warnings and ensuring code efficiency, we use Python's warnings library. The combined use of EDA, advanced machine learning techniques, and data manipulation tools results in a robust and user-friendly salary prediction model."
   ]
  },
  {
   "cell_type": "markdown",
   "id": "5e16995e",
   "metadata": {
    "papermill": {
     "duration": 0.011458,
     "end_time": "2023-09-01T14:04:52.645894",
     "exception": false,
     "start_time": "2023-09-01T14:04:52.634436",
     "status": "completed"
    },
    "tags": []
   },
   "source": [
    "# **Use Cases**"
   ]
  },
  {
   "cell_type": "markdown",
   "id": "8e55fb15",
   "metadata": {
    "papermill": {
     "duration": 0.011703,
     "end_time": "2023-09-01T14:04:52.669665",
     "exception": false,
     "start_time": "2023-09-01T14:04:52.657962",
     "status": "completed"
    },
    "tags": []
   },
   "source": [
    "This salary prediction model serves as a valuable tool for both job seekers and employers by providing an accurate estimate of salaries based on various job-related factors. It empowers individuals to negotiate better and make informed career decisions, while aiding companies in budget planning and competitive hiring. To approach this model, users should start by familiarizing themselves with the variables considered, such as experience level and job title. After that, they can input these details into the model to obtain a personalized salary estimate. The model's utility lies in its data-driven approach to solving a real-world problem."
   ]
  },
  {
   "cell_type": "code",
   "execution_count": 120,
   "id": "b09c2bb7",
   "metadata": {
    "_cell_guid": "b1076dfc-b9ad-4769-8c92-a6c4dae69d19",
    "_uuid": "8f2839f25d086af736a60e9eeb907d3b93b6e0e5",
    "execution": {
     "iopub.execute_input": "2023-09-01T14:04:52.696030Z",
     "iopub.status.busy": "2023-09-01T14:04:52.694843Z",
     "iopub.status.idle": "2023-09-01T14:04:53.104331Z",
     "shell.execute_reply": "2023-09-01T14:04:53.103260Z"
    },
    "papermill": {
     "duration": 0.425116,
     "end_time": "2023-09-01T14:04:53.106710",
     "exception": false,
     "start_time": "2023-09-01T14:04:52.681594",
     "status": "completed"
    },
    "tags": []
   },
   "outputs": [],
   "source": [
    "import numpy as np \n",
    "import pandas as pd \n",
    "import os"
   ]
  },
  {
   "cell_type": "markdown",
   "id": "7f8a9564",
   "metadata": {
    "papermill": {
     "duration": 0.011878,
     "end_time": "2023-09-01T14:04:53.130986",
     "exception": false,
     "start_time": "2023-09-01T14:04:53.119108",
     "status": "completed"
    },
    "tags": []
   },
   "source": [
    "**Importing Libraries**"
   ]
  },
  {
   "cell_type": "code",
   "execution_count": 121,
   "id": "9e9bfc1b",
   "metadata": {
    "execution": {
     "iopub.execute_input": "2023-09-01T14:04:53.157525Z",
     "iopub.status.busy": "2023-09-01T14:04:53.156571Z",
     "iopub.status.idle": "2023-09-01T14:04:54.621777Z",
     "shell.execute_reply": "2023-09-01T14:04:54.620728Z"
    },
    "papermill": {
     "duration": 1.481518,
     "end_time": "2023-09-01T14:04:54.624715",
     "exception": false,
     "start_time": "2023-09-01T14:04:53.143197",
     "status": "completed"
    },
    "tags": []
   },
   "outputs": [],
   "source": [
    "import pandas as pd\n",
    "import numpy as np\n",
    "from sklearn.model_selection import train_test_split\n",
    "from sklearn.preprocessing import LabelEncoder, OneHotEncoder\n",
    "from sklearn.linear_model import LinearRegression\n",
    "from sklearn.metrics import mean_absolute_error"
   ]
  },
  {
   "cell_type": "markdown",
   "id": "742535ef",
   "metadata": {
    "papermill": {
     "duration": 0.011865,
     "end_time": "2023-09-01T14:04:54.648986",
     "exception": false,
     "start_time": "2023-09-01T14:04:54.637121",
     "status": "completed"
    },
    "tags": []
   },
   "source": [
    "**Importing Data**"
   ]
  },
  {
   "cell_type": "code",
   "execution_count": 122,
   "id": "6bc42508",
   "metadata": {
    "execution": {
     "iopub.execute_input": "2023-09-01T14:04:54.675422Z",
     "iopub.status.busy": "2023-09-01T14:04:54.674834Z",
     "iopub.status.idle": "2023-09-01T14:04:54.705154Z",
     "shell.execute_reply": "2023-09-01T14:04:54.704108Z"
    },
    "papermill": {
     "duration": 0.046753,
     "end_time": "2023-09-01T14:04:54.707893",
     "exception": false,
     "start_time": "2023-09-01T14:04:54.661140",
     "status": "completed"
    },
    "tags": []
   },
   "outputs": [
    {
     "name": "stderr",
     "output_type": "stream",
     "text": [
      "<>:1: SyntaxWarning: invalid escape sequence '\\S'\n",
      "<>:1: SyntaxWarning: invalid escape sequence '\\S'\n",
      "C:\\Users\\Dell\\AppData\\Local\\Temp\\ipykernel_27264\\715044506.py:1: SyntaxWarning: invalid escape sequence '\\S'\n",
      "  df = pd.read_csv('D:\\Second Sem\\BIA\\Project\\jobs_in_data.csv')\n"
     ]
    }
   ],
   "source": [
    "df = pd.read_csv('D:\\Second Sem\\BIA\\Project\\jobs_in_data.csv')"
   ]
  },
  {
   "cell_type": "code",
   "execution_count": 123,
   "id": "8392763e",
   "metadata": {},
   "outputs": [
    {
     "data": {
      "text/plain": [
       "(9355, 12)"
      ]
     },
     "execution_count": 123,
     "metadata": {},
     "output_type": "execute_result"
    }
   ],
   "source": [
    "df.shape"
   ]
  },
  {
   "cell_type": "code",
   "execution_count": 124,
   "id": "67c598e2",
   "metadata": {},
   "outputs": [
    {
     "data": {
      "text/plain": [
       "Index(['work_year', 'job_title', 'job_category', 'salary_currency', 'salary',\n",
       "       'salary_in_usd', 'employee_residence', 'experience_level',\n",
       "       'employment_type', 'work_setting', 'company_location', 'company_size'],\n",
       "      dtype='object')"
      ]
     },
     "execution_count": 124,
     "metadata": {},
     "output_type": "execute_result"
    }
   ],
   "source": [
    "df.columns"
   ]
  },
  {
   "cell_type": "code",
   "execution_count": 125,
   "id": "f07e1ebe",
   "metadata": {},
   "outputs": [
    {
     "data": {
      "text/html": [
       "<div>\n",
       "<style scoped>\n",
       "    .dataframe tbody tr th:only-of-type {\n",
       "        vertical-align: middle;\n",
       "    }\n",
       "\n",
       "    .dataframe tbody tr th {\n",
       "        vertical-align: top;\n",
       "    }\n",
       "\n",
       "    .dataframe thead th {\n",
       "        text-align: right;\n",
       "    }\n",
       "</style>\n",
       "<table border=\"1\" class=\"dataframe\">\n",
       "  <thead>\n",
       "    <tr style=\"text-align: right;\">\n",
       "      <th></th>\n",
       "      <th>work_year</th>\n",
       "      <th>salary</th>\n",
       "      <th>salary_in_usd</th>\n",
       "    </tr>\n",
       "  </thead>\n",
       "  <tbody>\n",
       "    <tr>\n",
       "      <th>count</th>\n",
       "      <td>9355.000000</td>\n",
       "      <td>9355.000000</td>\n",
       "      <td>9355.000000</td>\n",
       "    </tr>\n",
       "    <tr>\n",
       "      <th>mean</th>\n",
       "      <td>2022.760449</td>\n",
       "      <td>149927.981293</td>\n",
       "      <td>150299.495564</td>\n",
       "    </tr>\n",
       "    <tr>\n",
       "      <th>std</th>\n",
       "      <td>0.519470</td>\n",
       "      <td>63608.835387</td>\n",
       "      <td>63177.372024</td>\n",
       "    </tr>\n",
       "    <tr>\n",
       "      <th>min</th>\n",
       "      <td>2020.000000</td>\n",
       "      <td>14000.000000</td>\n",
       "      <td>15000.000000</td>\n",
       "    </tr>\n",
       "    <tr>\n",
       "      <th>25%</th>\n",
       "      <td>2023.000000</td>\n",
       "      <td>105200.000000</td>\n",
       "      <td>105700.000000</td>\n",
       "    </tr>\n",
       "    <tr>\n",
       "      <th>50%</th>\n",
       "      <td>2023.000000</td>\n",
       "      <td>143860.000000</td>\n",
       "      <td>143000.000000</td>\n",
       "    </tr>\n",
       "    <tr>\n",
       "      <th>75%</th>\n",
       "      <td>2023.000000</td>\n",
       "      <td>187000.000000</td>\n",
       "      <td>186723.000000</td>\n",
       "    </tr>\n",
       "    <tr>\n",
       "      <th>max</th>\n",
       "      <td>2023.000000</td>\n",
       "      <td>450000.000000</td>\n",
       "      <td>450000.000000</td>\n",
       "    </tr>\n",
       "  </tbody>\n",
       "</table>\n",
       "</div>"
      ],
      "text/plain": [
       "         work_year         salary  salary_in_usd\n",
       "count  9355.000000    9355.000000    9355.000000\n",
       "mean   2022.760449  149927.981293  150299.495564\n",
       "std       0.519470   63608.835387   63177.372024\n",
       "min    2020.000000   14000.000000   15000.000000\n",
       "25%    2023.000000  105200.000000  105700.000000\n",
       "50%    2023.000000  143860.000000  143000.000000\n",
       "75%    2023.000000  187000.000000  186723.000000\n",
       "max    2023.000000  450000.000000  450000.000000"
      ]
     },
     "execution_count": 125,
     "metadata": {},
     "output_type": "execute_result"
    }
   ],
   "source": [
    "df.describe()"
   ]
  },
  {
   "cell_type": "code",
   "execution_count": 126,
   "id": "caf8acd7",
   "metadata": {},
   "outputs": [
    {
     "name": "stdout",
     "output_type": "stream",
     "text": [
      "<class 'pandas.core.frame.DataFrame'>\n",
      "RangeIndex: 9355 entries, 0 to 9354\n",
      "Data columns (total 12 columns):\n",
      " #   Column              Non-Null Count  Dtype \n",
      "---  ------              --------------  ----- \n",
      " 0   work_year           9355 non-null   int64 \n",
      " 1   job_title           9355 non-null   object\n",
      " 2   job_category        9355 non-null   object\n",
      " 3   salary_currency     9355 non-null   object\n",
      " 4   salary              9355 non-null   int64 \n",
      " 5   salary_in_usd       9355 non-null   int64 \n",
      " 6   employee_residence  9355 non-null   object\n",
      " 7   experience_level    9355 non-null   object\n",
      " 8   employment_type     9355 non-null   object\n",
      " 9   work_setting        9355 non-null   object\n",
      " 10  company_location    9355 non-null   object\n",
      " 11  company_size        9355 non-null   object\n",
      "dtypes: int64(3), object(9)\n",
      "memory usage: 877.2+ KB\n"
     ]
    }
   ],
   "source": [
    "# Check Dtypes of your input data\n",
    "df.info()"
   ]
  },
  {
   "cell_type": "code",
   "execution_count": 127,
   "id": "81078014",
   "metadata": {},
   "outputs": [
    {
     "data": {
      "text/html": [
       "<div>\n",
       "<style scoped>\n",
       "    .dataframe tbody tr th:only-of-type {\n",
       "        vertical-align: middle;\n",
       "    }\n",
       "\n",
       "    .dataframe tbody tr th {\n",
       "        vertical-align: top;\n",
       "    }\n",
       "\n",
       "    .dataframe thead th {\n",
       "        text-align: right;\n",
       "    }\n",
       "</style>\n",
       "<table border=\"1\" class=\"dataframe\">\n",
       "  <thead>\n",
       "    <tr style=\"text-align: right;\">\n",
       "      <th></th>\n",
       "      <th>work_year</th>\n",
       "      <th>job_title</th>\n",
       "      <th>job_category</th>\n",
       "      <th>salary_in_usd</th>\n",
       "      <th>employee_residence</th>\n",
       "      <th>experience_level</th>\n",
       "      <th>employment_type</th>\n",
       "      <th>work_setting</th>\n",
       "      <th>company_location</th>\n",
       "      <th>company_size</th>\n",
       "    </tr>\n",
       "  </thead>\n",
       "  <tbody>\n",
       "    <tr>\n",
       "      <th>0</th>\n",
       "      <td>2023</td>\n",
       "      <td>Data DevOps Engineer</td>\n",
       "      <td>Data Engineering</td>\n",
       "      <td>95012</td>\n",
       "      <td>Germany</td>\n",
       "      <td>Mid-level</td>\n",
       "      <td>Full-time</td>\n",
       "      <td>Hybrid</td>\n",
       "      <td>Germany</td>\n",
       "      <td>L</td>\n",
       "    </tr>\n",
       "    <tr>\n",
       "      <th>1</th>\n",
       "      <td>2023</td>\n",
       "      <td>Data Architect</td>\n",
       "      <td>Data Architecture and Modeling</td>\n",
       "      <td>186000</td>\n",
       "      <td>United States</td>\n",
       "      <td>Senior</td>\n",
       "      <td>Full-time</td>\n",
       "      <td>In-person</td>\n",
       "      <td>United States</td>\n",
       "      <td>M</td>\n",
       "    </tr>\n",
       "    <tr>\n",
       "      <th>2</th>\n",
       "      <td>2023</td>\n",
       "      <td>Data Architect</td>\n",
       "      <td>Data Architecture and Modeling</td>\n",
       "      <td>81800</td>\n",
       "      <td>United States</td>\n",
       "      <td>Senior</td>\n",
       "      <td>Full-time</td>\n",
       "      <td>In-person</td>\n",
       "      <td>United States</td>\n",
       "      <td>M</td>\n",
       "    </tr>\n",
       "    <tr>\n",
       "      <th>3</th>\n",
       "      <td>2023</td>\n",
       "      <td>Data Scientist</td>\n",
       "      <td>Data Science and Research</td>\n",
       "      <td>212000</td>\n",
       "      <td>United States</td>\n",
       "      <td>Senior</td>\n",
       "      <td>Full-time</td>\n",
       "      <td>In-person</td>\n",
       "      <td>United States</td>\n",
       "      <td>M</td>\n",
       "    </tr>\n",
       "    <tr>\n",
       "      <th>4</th>\n",
       "      <td>2023</td>\n",
       "      <td>Data Scientist</td>\n",
       "      <td>Data Science and Research</td>\n",
       "      <td>93300</td>\n",
       "      <td>United States</td>\n",
       "      <td>Senior</td>\n",
       "      <td>Full-time</td>\n",
       "      <td>In-person</td>\n",
       "      <td>United States</td>\n",
       "      <td>M</td>\n",
       "    </tr>\n",
       "  </tbody>\n",
       "</table>\n",
       "</div>"
      ],
      "text/plain": [
       "   work_year             job_title                    job_category  \\\n",
       "0       2023  Data DevOps Engineer                Data Engineering   \n",
       "1       2023        Data Architect  Data Architecture and Modeling   \n",
       "2       2023        Data Architect  Data Architecture and Modeling   \n",
       "3       2023        Data Scientist       Data Science and Research   \n",
       "4       2023        Data Scientist       Data Science and Research   \n",
       "\n",
       "   salary_in_usd employee_residence experience_level employment_type  \\\n",
       "0          95012            Germany        Mid-level       Full-time   \n",
       "1         186000      United States           Senior       Full-time   \n",
       "2          81800      United States           Senior       Full-time   \n",
       "3         212000      United States           Senior       Full-time   \n",
       "4          93300      United States           Senior       Full-time   \n",
       "\n",
       "  work_setting company_location company_size  \n",
       "0       Hybrid          Germany            L  \n",
       "1    In-person    United States            M  \n",
       "2    In-person    United States            M  \n",
       "3    In-person    United States            M  \n",
       "4    In-person    United States            M  "
      ]
     },
     "execution_count": 127,
     "metadata": {},
     "output_type": "execute_result"
    }
   ],
   "source": [
    "# Drop columns not needed\n",
    "columns_to_drop = ['salary_currency', 'salary']\n",
    "df.drop(columns=columns_to_drop, inplace=True)  \n",
    "df.head()"
   ]
  },
  {
   "cell_type": "code",
   "execution_count": 128,
   "id": "3a356a50",
   "metadata": {},
   "outputs": [
    {
     "data": {
      "text/plain": [
       "array(['Full-time', 'Part-time', 'Contract', 'Freelance'], dtype=object)"
      ]
     },
     "execution_count": 128,
     "metadata": {},
     "output_type": "execute_result"
    }
   ],
   "source": [
    "df['employment_type'].unique()"
   ]
  },
  {
   "cell_type": "code",
   "execution_count": 129,
   "id": "c3ed60cb",
   "metadata": {},
   "outputs": [
    {
     "data": {
      "text/plain": [
       "array(['Mid-level', 'Senior', 'Executive', 'Entry-level'], dtype=object)"
      ]
     },
     "execution_count": 129,
     "metadata": {},
     "output_type": "execute_result"
    }
   ],
   "source": [
    "df['experience_level'].unique()"
   ]
  },
  {
   "cell_type": "code",
   "execution_count": 130,
   "id": "2a90f636",
   "metadata": {},
   "outputs": [
    {
     "data": {
      "text/plain": [
       "array(['Data DevOps Engineer', 'Data Architect', 'Data Scientist',\n",
       "       'Machine Learning Researcher', 'Data Engineer',\n",
       "       'Machine Learning Engineer', 'Data Analyst', 'Analytics Engineer',\n",
       "       'Applied Scientist', 'BI Developer',\n",
       "       'Business Intelligence Engineer', 'Research Scientist',\n",
       "       'Research Analyst', 'Research Engineer', 'Data Science Engineer',\n",
       "       'Data Quality Analyst', 'Data Product Manager',\n",
       "       'Machine Learning Scientist', 'AI Engineer', 'MLOps Engineer',\n",
       "       'Deep Learning Engineer', 'Data Modeler', 'Data Product Owner',\n",
       "       'Data Science Consultant', 'Business Intelligence Analyst',\n",
       "       'AI Developer', 'Data Manager', 'ML Engineer',\n",
       "       'Data Science Director', 'Head of Data', 'BI Analyst',\n",
       "       'Data Management Analyst', 'Machine Learning Modeler',\n",
       "       'Data Specialist', 'BI Data Analyst', 'Data Integration Engineer',\n",
       "       'Business Intelligence Manager', 'Data Integration Specialist',\n",
       "       'Data Science Practitioner', 'Business Intelligence Developer',\n",
       "       'AI Research Engineer', 'Data Lead', 'Data Management Specialist',\n",
       "       'AI Architect', 'Data Science Manager', 'Data Strategist',\n",
       "       'Business Intelligence Specialist',\n",
       "       'Machine Learning Infrastructure Engineer',\n",
       "       'Data Quality Engineer', 'Director of Data Science',\n",
       "       'Business Data Analyst', 'Decision Scientist',\n",
       "       'Financial Data Analyst', 'Data Strategy Manager',\n",
       "       'Computer Vision Engineer', 'Data Visualization Specialist',\n",
       "       'Insight Analyst', 'Data Visualization Engineer', 'ETL Developer',\n",
       "       'Data Analytics Manager', 'Azure Data Engineer', 'Data Developer',\n",
       "       'Principal Data Scientist', 'Data Science Lead',\n",
       "       'Staff Data Analyst', 'Data Infrastructure Engineer',\n",
       "       'Machine Learning Software Engineer',\n",
       "       'Machine Learning Operations Engineer', 'AI Scientist',\n",
       "       'Head of Machine Learning', 'Applied Data Scientist',\n",
       "       'AI Programmer', 'Data Operations Analyst',\n",
       "       'Applied Machine Learning Scientist', 'Data Analytics Lead',\n",
       "       'Data Operations Engineer', 'Machine Learning Manager',\n",
       "       'Lead Data Scientist', 'Principal Machine Learning Engineer',\n",
       "       'Principal Data Engineer', 'Power BI Developer',\n",
       "       'Head of Data Science', 'Staff Machine Learning Engineer',\n",
       "       'Staff Data Scientist', 'Consultant Data Engineer',\n",
       "       'Machine Learning Specialist',\n",
       "       'Business Intelligence Data Analyst', 'Data Operations Manager',\n",
       "       'Lead Machine Learning Engineer', 'Managing Director Data Science',\n",
       "       'Data Modeller', 'Finance Data Analyst', 'Software Data Engineer',\n",
       "       'Machine Learning Research Engineer', 'Compliance Data Analyst',\n",
       "       'Data Operations Specialist', 'Cloud Data Engineer',\n",
       "       'Analytics Engineering Manager', 'NLP Engineer',\n",
       "       'AWS Data Architect', 'Product Data Analyst',\n",
       "       'Machine Learning Developer', 'Data Visualization Analyst',\n",
       "       'Autonomous Vehicle Technician', 'Sales Data Analyst',\n",
       "       'Applied Machine Learning Engineer', 'ETL Engineer',\n",
       "       'Big Data Engineer', 'Lead Data Analyst', 'BI Data Engineer',\n",
       "       'Cloud Database Engineer', 'Deep Learning Researcher',\n",
       "       'Data Analytics Specialist', 'Big Data Architect',\n",
       "       'Computer Vision Software Engineer', 'Marketing Data Engineer',\n",
       "       'Manager Data Management', 'Data Analytics Consultant',\n",
       "       'Data Science Tech Lead', 'Data Scientist Lead',\n",
       "       'Marketing Data Analyst', 'Data Analytics Engineer',\n",
       "       'Cloud Data Architect', 'Lead Data Engineer',\n",
       "       'Principal Data Analyst'], dtype=object)"
      ]
     },
     "execution_count": 130,
     "metadata": {},
     "output_type": "execute_result"
    }
   ],
   "source": [
    "df['job_title'].unique()"
   ]
  },
  {
   "cell_type": "code",
   "execution_count": 131,
   "id": "1f433dbc",
   "metadata": {},
   "outputs": [
    {
     "data": {
      "text/plain": [
       "array(['Germany', 'United States', 'United Kingdom', 'Canada', 'Spain',\n",
       "       'Ireland', 'South Africa', 'Poland', 'France', 'Netherlands',\n",
       "       'Luxembourg', 'Lithuania', 'Portugal', 'Gibraltar', 'Australia',\n",
       "       'Colombia', 'Ukraine', 'Slovenia', 'Romania', 'Greece', 'India',\n",
       "       'Latvia', 'Mauritius', 'Russia', 'Italy', 'South Korea', 'Estonia',\n",
       "       'Czech Republic', 'Brazil', 'Qatar', 'Kenya', 'Denmark', 'Ghana',\n",
       "       'Sweden', 'Turkey', 'Switzerland', 'Andorra', 'Ecuador', 'Mexico',\n",
       "       'Israel', 'Nigeria', 'Saudi Arabia', 'Argentina', 'Japan',\n",
       "       'Central African Republic', 'Finland', 'Singapore', 'Croatia',\n",
       "       'Armenia', 'Bosnia and Herzegovina', 'Pakistan', 'Iran', 'Bahamas',\n",
       "       'Austria', 'Puerto Rico', 'American Samoa', 'Thailand',\n",
       "       'Philippines', 'Belgium', 'Egypt', 'Indonesia',\n",
       "       'United Arab Emirates', 'Malaysia', 'Honduras', 'Algeria', 'Iraq',\n",
       "       'China', 'New Zealand', 'Moldova', 'Malta'], dtype=object)"
      ]
     },
     "execution_count": 131,
     "metadata": {},
     "output_type": "execute_result"
    }
   ],
   "source": [
    "df['company_location'].unique()"
   ]
  },
  {
   "cell_type": "markdown",
   "id": "9ae01d25",
   "metadata": {
    "papermill": {
     "duration": 0.012362,
     "end_time": "2023-09-01T14:04:54.732706",
     "exception": false,
     "start_time": "2023-09-01T14:04:54.720344",
     "status": "completed"
    },
    "tags": []
   },
   "source": [
    "**Drop Rows With Missing Values**"
   ]
  },
  {
   "cell_type": "code",
   "execution_count": 132,
   "id": "250c6cb2",
   "metadata": {
    "execution": {
     "iopub.execute_input": "2023-09-01T14:04:54.759398Z",
     "iopub.status.busy": "2023-09-01T14:04:54.758699Z",
     "iopub.status.idle": "2023-09-01T14:04:54.767521Z",
     "shell.execute_reply": "2023-09-01T14:04:54.766759Z"
    },
    "papermill": {
     "duration": 0.024704,
     "end_time": "2023-09-01T14:04:54.769804",
     "exception": false,
     "start_time": "2023-09-01T14:04:54.745100",
     "status": "completed"
    },
    "tags": []
   },
   "outputs": [],
   "source": [
    "df.dropna(inplace=True)"
   ]
  },
  {
   "cell_type": "code",
   "execution_count": 133,
   "id": "aaa2c557",
   "metadata": {},
   "outputs": [
    {
     "data": {
      "text/plain": [
       "Index(['work_year', 'job_title', 'job_category', 'salary_in_usd',\n",
       "       'employee_residence', 'experience_level', 'employment_type',\n",
       "       'work_setting', 'company_location', 'company_size'],\n",
       "      dtype='object')"
      ]
     },
     "execution_count": 133,
     "metadata": {},
     "output_type": "execute_result"
    }
   ],
   "source": [
    "df.columns.unique()"
   ]
  },
  {
   "cell_type": "markdown",
   "id": "c25f6b62",
   "metadata": {
    "papermill": {
     "duration": 0.014327,
     "end_time": "2023-09-01T14:04:54.796422",
     "exception": false,
     "start_time": "2023-09-01T14:04:54.782095",
     "status": "completed"
    },
    "tags": []
   },
   "source": [
    "**Label Encoding**"
   ]
  },
  {
   "cell_type": "markdown",
   "id": "93592cec",
   "metadata": {
    "papermill": {
     "duration": 0.011851,
     "end_time": "2023-09-01T14:04:54.820742",
     "exception": false,
     "start_time": "2023-09-01T14:04:54.808891",
     "status": "completed"
    },
    "tags": []
   },
   "source": [
    "**Transform categorical variables into numerical labels.**"
   ]
  },
  {
   "cell_type": "code",
   "execution_count": 134,
   "id": "d576c016",
   "metadata": {
    "execution": {
     "iopub.execute_input": "2023-09-01T14:04:54.846592Z",
     "iopub.status.busy": "2023-09-01T14:04:54.846171Z",
     "iopub.status.idle": "2023-09-01T14:04:54.867169Z",
     "shell.execute_reply": "2023-09-01T14:04:54.866381Z"
    },
    "papermill": {
     "duration": 0.036648,
     "end_time": "2023-09-01T14:04:54.869470",
     "exception": false,
     "start_time": "2023-09-01T14:04:54.832822",
     "status": "completed"
    },
    "tags": []
   },
   "outputs": [],
   "source": [
    "label_encoder = LabelEncoder()\n",
    "\n",
    "df['experience_level'] = label_encoder.fit_transform(df['experience_level'])\n",
    "df['employment_type'] = label_encoder.fit_transform(df['employment_type'])\n",
    "df['job_title'] = label_encoder.fit_transform(df['job_title'])\n",
    "df['company_location'] = label_encoder.fit_transform(df['company_location'])\n",
    "df['company_size'] = label_encoder.fit_transform(df['company_size'])\n"
   ]
  },
  {
   "cell_type": "markdown",
   "id": "2e5738ca",
   "metadata": {
    "papermill": {
     "duration": 0.012223,
     "end_time": "2023-09-01T14:04:54.893898",
     "exception": false,
     "start_time": "2023-09-01T14:04:54.881675",
     "status": "completed"
    },
    "tags": []
   },
   "source": [
    "# **EDA**"
   ]
  },
  {
   "cell_type": "markdown",
   "id": "43c522df",
   "metadata": {
    "papermill": {
     "duration": 0.011973,
     "end_time": "2023-09-01T14:04:54.918185",
     "exception": false,
     "start_time": "2023-09-01T14:04:54.906212",
     "status": "completed"
    },
    "tags": []
   },
   "source": [
    "**Importing Libraries**"
   ]
  },
  {
   "cell_type": "code",
   "execution_count": 135,
   "id": "86854bcf",
   "metadata": {
    "execution": {
     "iopub.execute_input": "2023-09-01T14:04:54.944759Z",
     "iopub.status.busy": "2023-09-01T14:04:54.944367Z",
     "iopub.status.idle": "2023-09-01T14:04:55.505526Z",
     "shell.execute_reply": "2023-09-01T14:04:55.504707Z"
    },
    "papermill": {
     "duration": 0.577299,
     "end_time": "2023-09-01T14:04:55.507969",
     "exception": false,
     "start_time": "2023-09-01T14:04:54.930670",
     "status": "completed"
    },
    "tags": []
   },
   "outputs": [],
   "source": [
    "import seaborn as sns\n",
    "import matplotlib.pyplot as plt"
   ]
  },
  {
   "cell_type": "markdown",
   "id": "e74316e6",
   "metadata": {
    "papermill": {
     "duration": 0.012079,
     "end_time": "2023-09-01T14:04:55.618583",
     "exception": false,
     "start_time": "2023-09-01T14:04:55.606504",
     "status": "completed"
    },
    "tags": []
   },
   "source": [
    "**Correlation Matrix**"
   ]
  },
  {
   "cell_type": "markdown",
   "id": "c509f4dc",
   "metadata": {
    "papermill": {
     "duration": 0.011947,
     "end_time": "2023-09-01T14:04:56.004048",
     "exception": false,
     "start_time": "2023-09-01T14:04:55.992101",
     "status": "completed"
    },
    "tags": []
   },
   "source": [
    "**Generating Heatmap**"
   ]
  },
  {
   "cell_type": "code",
   "execution_count": 136,
   "id": "dabc5a0c",
   "metadata": {},
   "outputs": [
    {
     "data": {
      "image/png": "[encoded data removed]",
      "text/plain": [
       "<Figure size 1000x800 with 2 Axes>"
      ]
     },
     "metadata": {},
     "output_type": "display_data"
    }
   ],
   "source": [
    "# Correlation matrix\n",
    "plt.figure(figsize=(10, 8))\n",
    "sns.heatmap(df.select_dtypes(include=['int', 'float']).corr(), annot=True, cmap='coolwarm', fmt=\".2f\", linewidths=0.5)\n",
    "plt.title('Correlation Matrix')\n",
    "plt.show()"
   ]
  },
  {
   "cell_type": "markdown",
   "id": "e2531994",
   "metadata": {},
   "source": [
    "From the correlation matrix, we can see that job_category and job_title are highly correlated(0.59), so we can selet only one. In this case, we are selecting the Job_title. Similarly, we are also selecting company_location instead of employee_residence based on the coefficient of 0.95. \n",
    "\n",
    "Similarly, based on the correlation score, we have decided to select:\n",
    "Company_Location\n",
    "Job_Title\n",
    "Experience_Level\n",
    "Work_year\n",
    "Employment_type"
   ]
  },
  {
   "cell_type": "code",
   "execution_count": 137,
   "id": "9488c53b",
   "metadata": {},
   "outputs": [],
   "source": [
    "# One-Hot Encode the categorical columns\n",
    "df_one_hot = pd.get_dummies(df, columns=['experience_level', 'employment_type', 'job_title', 'company_location', 'company_size','work_setting'])\n",
    "\n",
    "# Drop the salary_currency column if it's not needed for correlation\n",
    "df_one_hot = df_one_hot.drop(['job_category','employee_residence'], axis=1)"
   ]
  },
  {
   "cell_type": "code",
   "execution_count": 138,
   "id": "9313ab91",
   "metadata": {},
   "outputs": [
    {
     "data": {
      "text/html": [
       "<div>\n",
       "<style scoped>\n",
       "    .dataframe tbody tr th:only-of-type {\n",
       "        vertical-align: middle;\n",
       "    }\n",
       "\n",
       "    .dataframe tbody tr th {\n",
       "        vertical-align: top;\n",
       "    }\n",
       "\n",
       "    .dataframe thead th {\n",
       "        text-align: right;\n",
       "    }\n",
       "</style>\n",
       "<table border=\"1\" class=\"dataframe\">\n",
       "  <thead>\n",
       "    <tr style=\"text-align: right;\">\n",
       "      <th></th>\n",
       "      <th>work_year</th>\n",
       "      <th>salary_in_usd</th>\n",
       "      <th>experience_level_0</th>\n",
       "      <th>experience_level_1</th>\n",
       "      <th>experience_level_2</th>\n",
       "      <th>experience_level_3</th>\n",
       "      <th>employment_type_0</th>\n",
       "      <th>employment_type_1</th>\n",
       "      <th>employment_type_2</th>\n",
       "      <th>employment_type_3</th>\n",
       "      <th>...</th>\n",
       "      <th>company_location_66</th>\n",
       "      <th>company_location_67</th>\n",
       "      <th>company_location_68</th>\n",
       "      <th>company_location_69</th>\n",
       "      <th>company_size_0</th>\n",
       "      <th>company_size_1</th>\n",
       "      <th>company_size_2</th>\n",
       "      <th>work_setting_Hybrid</th>\n",
       "      <th>work_setting_In-person</th>\n",
       "      <th>work_setting_Remote</th>\n",
       "    </tr>\n",
       "  </thead>\n",
       "  <tbody>\n",
       "    <tr>\n",
       "      <th>0</th>\n",
       "      <td>2023</td>\n",
       "      <td>95012</td>\n",
       "      <td>0</td>\n",
       "      <td>0</td>\n",
       "      <td>1</td>\n",
       "      <td>0</td>\n",
       "      <td>0</td>\n",
       "      <td>0</td>\n",
       "      <td>1</td>\n",
       "      <td>0</td>\n",
       "      <td>...</td>\n",
       "      <td>0</td>\n",
       "      <td>0</td>\n",
       "      <td>0</td>\n",
       "      <td>0</td>\n",
       "      <td>1</td>\n",
       "      <td>0</td>\n",
       "      <td>0</td>\n",
       "      <td>1</td>\n",
       "      <td>0</td>\n",
       "      <td>0</td>\n",
       "    </tr>\n",
       "    <tr>\n",
       "      <th>1</th>\n",
       "      <td>2023</td>\n",
       "      <td>186000</td>\n",
       "      <td>0</td>\n",
       "      <td>0</td>\n",
       "      <td>0</td>\n",
       "      <td>1</td>\n",
       "      <td>0</td>\n",
       "      <td>0</td>\n",
       "      <td>1</td>\n",
       "      <td>0</td>\n",
       "      <td>...</td>\n",
       "      <td>0</td>\n",
       "      <td>0</td>\n",
       "      <td>0</td>\n",
       "      <td>1</td>\n",
       "      <td>0</td>\n",
       "      <td>1</td>\n",
       "      <td>0</td>\n",
       "      <td>0</td>\n",
       "      <td>1</td>\n",
       "      <td>0</td>\n",
       "    </tr>\n",
       "    <tr>\n",
       "      <th>2</th>\n",
       "      <td>2023</td>\n",
       "      <td>81800</td>\n",
       "      <td>0</td>\n",
       "      <td>0</td>\n",
       "      <td>0</td>\n",
       "      <td>1</td>\n",
       "      <td>0</td>\n",
       "      <td>0</td>\n",
       "      <td>1</td>\n",
       "      <td>0</td>\n",
       "      <td>...</td>\n",
       "      <td>0</td>\n",
       "      <td>0</td>\n",
       "      <td>0</td>\n",
       "      <td>1</td>\n",
       "      <td>0</td>\n",
       "      <td>1</td>\n",
       "      <td>0</td>\n",
       "      <td>0</td>\n",
       "      <td>1</td>\n",
       "      <td>0</td>\n",
       "    </tr>\n",
       "    <tr>\n",
       "      <th>3</th>\n",
       "      <td>2023</td>\n",
       "      <td>212000</td>\n",
       "      <td>0</td>\n",
       "      <td>0</td>\n",
       "      <td>0</td>\n",
       "      <td>1</td>\n",
       "      <td>0</td>\n",
       "      <td>0</td>\n",
       "      <td>1</td>\n",
       "      <td>0</td>\n",
       "      <td>...</td>\n",
       "      <td>0</td>\n",
       "      <td>0</td>\n",
       "      <td>0</td>\n",
       "      <td>1</td>\n",
       "      <td>0</td>\n",
       "      <td>1</td>\n",
       "      <td>0</td>\n",
       "      <td>0</td>\n",
       "      <td>1</td>\n",
       "      <td>0</td>\n",
       "    </tr>\n",
       "    <tr>\n",
       "      <th>4</th>\n",
       "      <td>2023</td>\n",
       "      <td>93300</td>\n",
       "      <td>0</td>\n",
       "      <td>0</td>\n",
       "      <td>0</td>\n",
       "      <td>1</td>\n",
       "      <td>0</td>\n",
       "      <td>0</td>\n",
       "      <td>1</td>\n",
       "      <td>0</td>\n",
       "      <td>...</td>\n",
       "      <td>0</td>\n",
       "      <td>0</td>\n",
       "      <td>0</td>\n",
       "      <td>1</td>\n",
       "      <td>0</td>\n",
       "      <td>1</td>\n",
       "      <td>0</td>\n",
       "      <td>0</td>\n",
       "      <td>1</td>\n",
       "      <td>0</td>\n",
       "    </tr>\n",
       "    <tr>\n",
       "      <th>...</th>\n",
       "      <td>...</td>\n",
       "      <td>...</td>\n",
       "      <td>...</td>\n",
       "      <td>...</td>\n",
       "      <td>...</td>\n",
       "      <td>...</td>\n",
       "      <td>...</td>\n",
       "      <td>...</td>\n",
       "      <td>...</td>\n",
       "      <td>...</td>\n",
       "      <td>...</td>\n",
       "      <td>...</td>\n",
       "      <td>...</td>\n",
       "      <td>...</td>\n",
       "      <td>...</td>\n",
       "      <td>...</td>\n",
       "      <td>...</td>\n",
       "      <td>...</td>\n",
       "      <td>...</td>\n",
       "      <td>...</td>\n",
       "      <td>...</td>\n",
       "    </tr>\n",
       "    <tr>\n",
       "      <th>9350</th>\n",
       "      <td>2021</td>\n",
       "      <td>165000</td>\n",
       "      <td>0</td>\n",
       "      <td>0</td>\n",
       "      <td>0</td>\n",
       "      <td>1</td>\n",
       "      <td>0</td>\n",
       "      <td>0</td>\n",
       "      <td>1</td>\n",
       "      <td>0</td>\n",
       "      <td>...</td>\n",
       "      <td>0</td>\n",
       "      <td>0</td>\n",
       "      <td>0</td>\n",
       "      <td>1</td>\n",
       "      <td>1</td>\n",
       "      <td>0</td>\n",
       "      <td>0</td>\n",
       "      <td>0</td>\n",
       "      <td>0</td>\n",
       "      <td>1</td>\n",
       "    </tr>\n",
       "    <tr>\n",
       "      <th>9351</th>\n",
       "      <td>2020</td>\n",
       "      <td>412000</td>\n",
       "      <td>0</td>\n",
       "      <td>0</td>\n",
       "      <td>0</td>\n",
       "      <td>1</td>\n",
       "      <td>0</td>\n",
       "      <td>0</td>\n",
       "      <td>1</td>\n",
       "      <td>0</td>\n",
       "      <td>...</td>\n",
       "      <td>0</td>\n",
       "      <td>0</td>\n",
       "      <td>0</td>\n",
       "      <td>1</td>\n",
       "      <td>1</td>\n",
       "      <td>0</td>\n",
       "      <td>0</td>\n",
       "      <td>0</td>\n",
       "      <td>0</td>\n",
       "      <td>1</td>\n",
       "    </tr>\n",
       "    <tr>\n",
       "      <th>9352</th>\n",
       "      <td>2021</td>\n",
       "      <td>151000</td>\n",
       "      <td>0</td>\n",
       "      <td>0</td>\n",
       "      <td>1</td>\n",
       "      <td>0</td>\n",
       "      <td>0</td>\n",
       "      <td>0</td>\n",
       "      <td>1</td>\n",
       "      <td>0</td>\n",
       "      <td>...</td>\n",
       "      <td>0</td>\n",
       "      <td>0</td>\n",
       "      <td>0</td>\n",
       "      <td>1</td>\n",
       "      <td>1</td>\n",
       "      <td>0</td>\n",
       "      <td>0</td>\n",
       "      <td>0</td>\n",
       "      <td>0</td>\n",
       "      <td>1</td>\n",
       "    </tr>\n",
       "    <tr>\n",
       "      <th>9353</th>\n",
       "      <td>2020</td>\n",
       "      <td>105000</td>\n",
       "      <td>1</td>\n",
       "      <td>0</td>\n",
       "      <td>0</td>\n",
       "      <td>0</td>\n",
       "      <td>0</td>\n",
       "      <td>0</td>\n",
       "      <td>1</td>\n",
       "      <td>0</td>\n",
       "      <td>...</td>\n",
       "      <td>0</td>\n",
       "      <td>0</td>\n",
       "      <td>0</td>\n",
       "      <td>1</td>\n",
       "      <td>0</td>\n",
       "      <td>0</td>\n",
       "      <td>1</td>\n",
       "      <td>0</td>\n",
       "      <td>0</td>\n",
       "      <td>1</td>\n",
       "    </tr>\n",
       "    <tr>\n",
       "      <th>9354</th>\n",
       "      <td>2020</td>\n",
       "      <td>100000</td>\n",
       "      <td>1</td>\n",
       "      <td>0</td>\n",
       "      <td>0</td>\n",
       "      <td>0</td>\n",
       "      <td>1</td>\n",
       "      <td>0</td>\n",
       "      <td>0</td>\n",
       "      <td>0</td>\n",
       "      <td>...</td>\n",
       "      <td>0</td>\n",
       "      <td>0</td>\n",
       "      <td>0</td>\n",
       "      <td>1</td>\n",
       "      <td>1</td>\n",
       "      <td>0</td>\n",
       "      <td>0</td>\n",
       "      <td>0</td>\n",
       "      <td>0</td>\n",
       "      <td>1</td>\n",
       "    </tr>\n",
       "  </tbody>\n",
       "</table>\n",
       "<p>9355 rows × 211 columns</p>\n",
       "</div>"
      ],
      "text/plain": [
       "      work_year  salary_in_usd  experience_level_0  experience_level_1  \\\n",
       "0          2023          95012                   0                   0   \n",
       "1          2023         186000                   0                   0   \n",
       "2          2023          81800                   0                   0   \n",
       "3          2023         212000                   0                   0   \n",
       "4          2023          93300                   0                   0   \n",
       "...         ...            ...                 ...                 ...   \n",
       "9350       2021         165000                   0                   0   \n",
       "9351       2020         412000                   0                   0   \n",
       "9352       2021         151000                   0                   0   \n",
       "9353       2020         105000                   1                   0   \n",
       "9354       2020         100000                   1                   0   \n",
       "\n",
       "      experience_level_2  experience_level_3  employment_type_0  \\\n",
       "0                      1                   0                  0   \n",
       "1                      0                   1                  0   \n",
       "2                      0                   1                  0   \n",
       "3                      0                   1                  0   \n",
       "4                      0                   1                  0   \n",
       "...                  ...                 ...                ...   \n",
       "9350                   0                   1                  0   \n",
       "9351                   0                   1                  0   \n",
       "9352                   1                   0                  0   \n",
       "9353                   0                   0                  0   \n",
       "9354                   0                   0                  1   \n",
       "\n",
       "      employment_type_1  employment_type_2  employment_type_3  ...  \\\n",
       "0                     0                  1                  0  ...   \n",
       "1                     0                  1                  0  ...   \n",
       "2                     0                  1                  0  ...   \n",
       "3                     0                  1                  0  ...   \n",
       "4                     0                  1                  0  ...   \n",
       "...                 ...                ...                ...  ...   \n",
       "9350                  0                  1                  0  ...   \n",
       "9351                  0                  1                  0  ...   \n",
       "9352                  0                  1                  0  ...   \n",
       "9353                  0                  1                  0  ...   \n",
       "9354                  0                  0                  0  ...   \n",
       "\n",
       "      company_location_66  company_location_67  company_location_68  \\\n",
       "0                       0                    0                    0   \n",
       "1                       0                    0                    0   \n",
       "2                       0                    0                    0   \n",
       "3                       0                    0                    0   \n",
       "4                       0                    0                    0   \n",
       "...                   ...                  ...                  ...   \n",
       "9350                    0                    0                    0   \n",
       "9351                    0                    0                    0   \n",
       "9352                    0                    0                    0   \n",
       "9353                    0                    0                    0   \n",
       "9354                    0                    0                    0   \n",
       "\n",
       "      company_location_69  company_size_0  company_size_1  company_size_2  \\\n",
       "0                       0               1               0               0   \n",
       "1                       1               0               1               0   \n",
       "2                       1               0               1               0   \n",
       "3                       1               0               1               0   \n",
       "4                       1               0               1               0   \n",
       "...                   ...             ...             ...             ...   \n",
       "9350                    1               1               0               0   \n",
       "9351                    1               1               0               0   \n",
       "9352                    1               1               0               0   \n",
       "9353                    1               0               0               1   \n",
       "9354                    1               1               0               0   \n",
       "\n",
       "      work_setting_Hybrid  work_setting_In-person  work_setting_Remote  \n",
       "0                       1                       0                    0  \n",
       "1                       0                       1                    0  \n",
       "2                       0                       1                    0  \n",
       "3                       0                       1                    0  \n",
       "4                       0                       1                    0  \n",
       "...                   ...                     ...                  ...  \n",
       "9350                    0                       0                    1  \n",
       "9351                    0                       0                    1  \n",
       "9352                    0                       0                    1  \n",
       "9353                    0                       0                    1  \n",
       "9354                    0                       0                    1  \n",
       "\n",
       "[9355 rows x 211 columns]"
      ]
     },
     "execution_count": 138,
     "metadata": {},
     "output_type": "execute_result"
    }
   ],
   "source": [
    "df_one_hot.astype(int)"
   ]
  },
  {
   "cell_type": "code",
   "execution_count": 139,
   "id": "01b7e15e",
   "metadata": {},
   "outputs": [
    {
     "data": {
      "text/html": [
       "<div>\n",
       "<style scoped>\n",
       "    .dataframe tbody tr th:only-of-type {\n",
       "        vertical-align: middle;\n",
       "    }\n",
       "\n",
       "    .dataframe tbody tr th {\n",
       "        vertical-align: top;\n",
       "    }\n",
       "\n",
       "    .dataframe thead th {\n",
       "        text-align: right;\n",
       "    }\n",
       "</style>\n",
       "<table border=\"1\" class=\"dataframe\">\n",
       "  <thead>\n",
       "    <tr style=\"text-align: right;\">\n",
       "      <th></th>\n",
       "      <th>work_year</th>\n",
       "      <th>salary_in_usd</th>\n",
       "      <th>experience_level_0</th>\n",
       "      <th>experience_level_1</th>\n",
       "      <th>experience_level_2</th>\n",
       "      <th>experience_level_3</th>\n",
       "      <th>employment_type_0</th>\n",
       "      <th>employment_type_1</th>\n",
       "      <th>employment_type_2</th>\n",
       "      <th>employment_type_3</th>\n",
       "      <th>...</th>\n",
       "      <th>company_location_66</th>\n",
       "      <th>company_location_67</th>\n",
       "      <th>company_location_68</th>\n",
       "      <th>company_location_69</th>\n",
       "      <th>company_size_0</th>\n",
       "      <th>company_size_1</th>\n",
       "      <th>company_size_2</th>\n",
       "      <th>work_setting_Hybrid</th>\n",
       "      <th>work_setting_In-person</th>\n",
       "      <th>work_setting_Remote</th>\n",
       "    </tr>\n",
       "  </thead>\n",
       "  <tbody>\n",
       "    <tr>\n",
       "      <th>0</th>\n",
       "      <td>2023</td>\n",
       "      <td>95012</td>\n",
       "      <td>False</td>\n",
       "      <td>False</td>\n",
       "      <td>True</td>\n",
       "      <td>False</td>\n",
       "      <td>False</td>\n",
       "      <td>False</td>\n",
       "      <td>True</td>\n",
       "      <td>False</td>\n",
       "      <td>...</td>\n",
       "      <td>False</td>\n",
       "      <td>False</td>\n",
       "      <td>False</td>\n",
       "      <td>False</td>\n",
       "      <td>True</td>\n",
       "      <td>False</td>\n",
       "      <td>False</td>\n",
       "      <td>True</td>\n",
       "      <td>False</td>\n",
       "      <td>False</td>\n",
       "    </tr>\n",
       "    <tr>\n",
       "      <th>1</th>\n",
       "      <td>2023</td>\n",
       "      <td>186000</td>\n",
       "      <td>False</td>\n",
       "      <td>False</td>\n",
       "      <td>False</td>\n",
       "      <td>True</td>\n",
       "      <td>False</td>\n",
       "      <td>False</td>\n",
       "      <td>True</td>\n",
       "      <td>False</td>\n",
       "      <td>...</td>\n",
       "      <td>False</td>\n",
       "      <td>False</td>\n",
       "      <td>False</td>\n",
       "      <td>True</td>\n",
       "      <td>False</td>\n",
       "      <td>True</td>\n",
       "      <td>False</td>\n",
       "      <td>False</td>\n",
       "      <td>True</td>\n",
       "      <td>False</td>\n",
       "    </tr>\n",
       "    <tr>\n",
       "      <th>2</th>\n",
       "      <td>2023</td>\n",
       "      <td>81800</td>\n",
       "      <td>False</td>\n",
       "      <td>False</td>\n",
       "      <td>False</td>\n",
       "      <td>True</td>\n",
       "      <td>False</td>\n",
       "      <td>False</td>\n",
       "      <td>True</td>\n",
       "      <td>False</td>\n",
       "      <td>...</td>\n",
       "      <td>False</td>\n",
       "      <td>False</td>\n",
       "      <td>False</td>\n",
       "      <td>True</td>\n",
       "      <td>False</td>\n",
       "      <td>True</td>\n",
       "      <td>False</td>\n",
       "      <td>False</td>\n",
       "      <td>True</td>\n",
       "      <td>False</td>\n",
       "    </tr>\n",
       "    <tr>\n",
       "      <th>3</th>\n",
       "      <td>2023</td>\n",
       "      <td>212000</td>\n",
       "      <td>False</td>\n",
       "      <td>False</td>\n",
       "      <td>False</td>\n",
       "      <td>True</td>\n",
       "      <td>False</td>\n",
       "      <td>False</td>\n",
       "      <td>True</td>\n",
       "      <td>False</td>\n",
       "      <td>...</td>\n",
       "      <td>False</td>\n",
       "      <td>False</td>\n",
       "      <td>False</td>\n",
       "      <td>True</td>\n",
       "      <td>False</td>\n",
       "      <td>True</td>\n",
       "      <td>False</td>\n",
       "      <td>False</td>\n",
       "      <td>True</td>\n",
       "      <td>False</td>\n",
       "    </tr>\n",
       "    <tr>\n",
       "      <th>4</th>\n",
       "      <td>2023</td>\n",
       "      <td>93300</td>\n",
       "      <td>False</td>\n",
       "      <td>False</td>\n",
       "      <td>False</td>\n",
       "      <td>True</td>\n",
       "      <td>False</td>\n",
       "      <td>False</td>\n",
       "      <td>True</td>\n",
       "      <td>False</td>\n",
       "      <td>...</td>\n",
       "      <td>False</td>\n",
       "      <td>False</td>\n",
       "      <td>False</td>\n",
       "      <td>True</td>\n",
       "      <td>False</td>\n",
       "      <td>True</td>\n",
       "      <td>False</td>\n",
       "      <td>False</td>\n",
       "      <td>True</td>\n",
       "      <td>False</td>\n",
       "    </tr>\n",
       "  </tbody>\n",
       "</table>\n",
       "<p>5 rows × 211 columns</p>\n",
       "</div>"
      ],
      "text/plain": [
       "   work_year  salary_in_usd  experience_level_0  experience_level_1  \\\n",
       "0       2023          95012               False               False   \n",
       "1       2023         186000               False               False   \n",
       "2       2023          81800               False               False   \n",
       "3       2023         212000               False               False   \n",
       "4       2023          93300               False               False   \n",
       "\n",
       "   experience_level_2  experience_level_3  employment_type_0  \\\n",
       "0                True               False              False   \n",
       "1               False                True              False   \n",
       "2               False                True              False   \n",
       "3               False                True              False   \n",
       "4               False                True              False   \n",
       "\n",
       "   employment_type_1  employment_type_2  employment_type_3  ...  \\\n",
       "0              False               True              False  ...   \n",
       "1              False               True              False  ...   \n",
       "2              False               True              False  ...   \n",
       "3              False               True              False  ...   \n",
       "4              False               True              False  ...   \n",
       "\n",
       "   company_location_66  company_location_67  company_location_68  \\\n",
       "0                False                False                False   \n",
       "1                False                False                False   \n",
       "2                False                False                False   \n",
       "3                False                False                False   \n",
       "4                False                False                False   \n",
       "\n",
       "   company_location_69  company_size_0  company_size_1  company_size_2  \\\n",
       "0                False            True           False           False   \n",
       "1                 True           False            True           False   \n",
       "2                 True           False            True           False   \n",
       "3                 True           False            True           False   \n",
       "4                 True           False            True           False   \n",
       "\n",
       "   work_setting_Hybrid  work_setting_In-person  work_setting_Remote  \n",
       "0                 True                   False                False  \n",
       "1                False                    True                False  \n",
       "2                False                    True                False  \n",
       "3                False                    True                False  \n",
       "4                False                    True                False  \n",
       "\n",
       "[5 rows x 211 columns]"
      ]
     },
     "execution_count": 139,
     "metadata": {},
     "output_type": "execute_result"
    }
   ],
   "source": [
    "df_one_hot.head()"
   ]
  },
  {
   "cell_type": "markdown",
   "id": "f294e609",
   "metadata": {
    "papermill": {
     "duration": 0.016883,
     "end_time": "2023-09-01T14:04:58.180863",
     "exception": false,
     "start_time": "2023-09-01T14:04:58.163980",
     "status": "completed"
    },
    "tags": []
   },
   "source": [
    "**Distribution Plot**"
   ]
  },
  {
   "cell_type": "code",
   "execution_count": 140,
   "id": "06773666",
   "metadata": {
    "execution": {
     "iopub.execute_input": "2023-09-01T14:04:58.215644Z",
     "iopub.status.busy": "2023-09-01T14:04:58.215208Z",
     "iopub.status.idle": "2023-09-01T14:04:58.767457Z",
     "shell.execute_reply": "2023-09-01T14:04:58.766271Z"
    },
    "papermill": {
     "duration": 0.574153,
     "end_time": "2023-09-01T14:04:58.771273",
     "exception": false,
     "start_time": "2023-09-01T14:04:58.197120",
     "status": "completed"
    },
    "tags": []
   },
   "outputs": [
    {
     "data": {
      "image/png": "[encoded data removed]",
      "text/plain": [
       "<Figure size 500x500 with 1 Axes>"
      ]
     },
     "metadata": {},
     "output_type": "display_data"
    }
   ],
   "source": [
    "# Distribution Plot for Salary in USD\n",
    "sns.displot(df['salary_in_usd'], kde=True)\n",
    "plt.title('Distribution of Salary in USD')\n",
    "plt.xlabel('Salary in USD')\n",
    "plt.ylabel('Frequency')\n",
    "plt.show()"
   ]
  },
  {
   "cell_type": "markdown",
   "id": "5760ea75",
   "metadata": {
    "papermill": {
     "duration": 0.024241,
     "end_time": "2023-09-01T14:04:58.816942",
     "exception": false,
     "start_time": "2023-09-01T14:04:58.792701",
     "status": "completed"
    },
    "tags": []
   },
   "source": [
    "**Box Plot**"
   ]
  },
  {
   "cell_type": "code",
   "execution_count": 141,
   "id": "d8e7d255",
   "metadata": {
    "execution": {
     "iopub.execute_input": "2023-09-01T14:04:58.860477Z",
     "iopub.status.busy": "2023-09-01T14:04:58.859685Z",
     "iopub.status.idle": "2023-09-01T14:04:59.402926Z",
     "shell.execute_reply": "2023-09-01T14:04:59.401716Z"
    },
    "papermill": {
     "duration": 0.567593,
     "end_time": "2023-09-01T14:04:59.405352",
     "exception": false,
     "start_time": "2023-09-01T14:04:58.837759",
     "status": "completed"
    },
    "tags": []
   },
   "outputs": [
    {
     "data": {
      "image/png": "[encoded data removed]",
      "text/plain": [
       "<Figure size 640x480 with 1 Axes>"
      ]
     },
     "metadata": {},
     "output_type": "display_data"
    },
    {
     "data": {
      "image/png": "[encoded data removed]",
      "text/plain": [
       "<Figure size 640x480 with 1 Axes>"
      ]
     },
     "metadata": {},
     "output_type": "display_data"
    }
   ],
   "source": [
    "# Box Plot for Experience Level vs Salary in USD\n",
    "sns.boxplot(x='experience_level', y='salary_in_usd', data=df)\n",
    "plt.title('Experience Level vs Salary in USD')\n",
    "plt.xlabel('Experience Level')\n",
    "plt.ylabel('Salary in USD')\n",
    "plt.show()\n",
    "\n",
    "# Box Plot for Employment Type vs Salary in USD\n",
    "sns.boxplot(x='employment_type', y='salary_in_usd', data=df)\n",
    "plt.title('Employment Type vs Salary in USD')\n",
    "plt.xlabel('Employment Type')\n",
    "plt.ylabel('Salary in USD')\n",
    "plt.show()"
   ]
  },
  {
   "cell_type": "markdown",
   "id": "b1524569",
   "metadata": {
    "papermill": {
     "duration": 0.018458,
     "end_time": "2023-09-01T14:04:59.442399",
     "exception": false,
     "start_time": "2023-09-01T14:04:59.423941",
     "status": "completed"
    },
    "tags": []
   },
   "source": [
    "**Pair Plot**"
   ]
  },
  {
   "cell_type": "code",
   "execution_count": 142,
   "id": "19f70ef7",
   "metadata": {
    "execution": {
     "iopub.execute_input": "2023-09-01T14:04:59.534212Z",
     "iopub.status.busy": "2023-09-01T14:04:59.533798Z",
     "iopub.status.idle": "2023-09-01T14:05:01.027892Z",
     "shell.execute_reply": "2023-09-01T14:05:01.026741Z"
    },
    "papermill": {
     "duration": 1.569249,
     "end_time": "2023-09-01T14:05:01.030202",
     "exception": false,
     "start_time": "2023-09-01T14:04:59.460953",
     "status": "completed"
    },
    "tags": []
   },
   "outputs": [
    {
     "data": {
      "image/png": "[encoded data removed]",
      "text/plain": [
       "<Figure size 500x500 with 6 Axes>"
      ]
     },
     "metadata": {},
     "output_type": "display_data"
    }
   ],
   "source": [
    "# Pair Plot for numerical features (in this case, only 'work_year' and 'salary_in_usd')\n",
    "sns.pairplot(df[['work_year', 'salary_in_usd']], kind='scatter')\n",
    "plt.title('Pair Plot of Numerical Features')\n",
    "plt.show()"
   ]
  },
  {
   "cell_type": "code",
   "execution_count": 143,
   "id": "445e0484",
   "metadata": {},
   "outputs": [],
   "source": [
    "import pandas as pd\n",
    "import numpy as np\n",
    "from sklearn.model_selection import train_test_split\n",
    "from sklearn.metrics import mean_squared_error, r2_score\n",
    "import xgboost as xgb\n",
    "\n",
    "# Prepare the features (X) and the target variable (y)\n",
    "X = df_one_hot.drop(columns=['salary_in_usd'])\n",
    "y = df_one_hot['salary_in_usd']"
   ]
  },
  {
   "cell_type": "code",
   "execution_count": 144,
   "id": "4288db8a",
   "metadata": {},
   "outputs": [
    {
     "data": {
      "text/html": [
       "<div>\n",
       "<style scoped>\n",
       "    .dataframe tbody tr th:only-of-type {\n",
       "        vertical-align: middle;\n",
       "    }\n",
       "\n",
       "    .dataframe tbody tr th {\n",
       "        vertical-align: top;\n",
       "    }\n",
       "\n",
       "    .dataframe thead th {\n",
       "        text-align: right;\n",
       "    }\n",
       "</style>\n",
       "<table border=\"1\" class=\"dataframe\">\n",
       "  <thead>\n",
       "    <tr style=\"text-align: right;\">\n",
       "      <th></th>\n",
       "      <th>work_year</th>\n",
       "      <th>experience_level_0</th>\n",
       "      <th>experience_level_1</th>\n",
       "      <th>experience_level_2</th>\n",
       "      <th>experience_level_3</th>\n",
       "      <th>employment_type_0</th>\n",
       "      <th>employment_type_1</th>\n",
       "      <th>employment_type_2</th>\n",
       "      <th>employment_type_3</th>\n",
       "      <th>job_title_0</th>\n",
       "      <th>...</th>\n",
       "      <th>company_location_66</th>\n",
       "      <th>company_location_67</th>\n",
       "      <th>company_location_68</th>\n",
       "      <th>company_location_69</th>\n",
       "      <th>company_size_0</th>\n",
       "      <th>company_size_1</th>\n",
       "      <th>company_size_2</th>\n",
       "      <th>work_setting_Hybrid</th>\n",
       "      <th>work_setting_In-person</th>\n",
       "      <th>work_setting_Remote</th>\n",
       "    </tr>\n",
       "  </thead>\n",
       "  <tbody>\n",
       "    <tr>\n",
       "      <th>0</th>\n",
       "      <td>2023</td>\n",
       "      <td>False</td>\n",
       "      <td>False</td>\n",
       "      <td>True</td>\n",
       "      <td>False</td>\n",
       "      <td>False</td>\n",
       "      <td>False</td>\n",
       "      <td>True</td>\n",
       "      <td>False</td>\n",
       "      <td>False</td>\n",
       "      <td>...</td>\n",
       "      <td>False</td>\n",
       "      <td>False</td>\n",
       "      <td>False</td>\n",
       "      <td>False</td>\n",
       "      <td>True</td>\n",
       "      <td>False</td>\n",
       "      <td>False</td>\n",
       "      <td>True</td>\n",
       "      <td>False</td>\n",
       "      <td>False</td>\n",
       "    </tr>\n",
       "    <tr>\n",
       "      <th>1</th>\n",
       "      <td>2023</td>\n",
       "      <td>False</td>\n",
       "      <td>False</td>\n",
       "      <td>False</td>\n",
       "      <td>True</td>\n",
       "      <td>False</td>\n",
       "      <td>False</td>\n",
       "      <td>True</td>\n",
       "      <td>False</td>\n",
       "      <td>False</td>\n",
       "      <td>...</td>\n",
       "      <td>False</td>\n",
       "      <td>False</td>\n",
       "      <td>False</td>\n",
       "      <td>True</td>\n",
       "      <td>False</td>\n",
       "      <td>True</td>\n",
       "      <td>False</td>\n",
       "      <td>False</td>\n",
       "      <td>True</td>\n",
       "      <td>False</td>\n",
       "    </tr>\n",
       "    <tr>\n",
       "      <th>2</th>\n",
       "      <td>2023</td>\n",
       "      <td>False</td>\n",
       "      <td>False</td>\n",
       "      <td>False</td>\n",
       "      <td>True</td>\n",
       "      <td>False</td>\n",
       "      <td>False</td>\n",
       "      <td>True</td>\n",
       "      <td>False</td>\n",
       "      <td>False</td>\n",
       "      <td>...</td>\n",
       "      <td>False</td>\n",
       "      <td>False</td>\n",
       "      <td>False</td>\n",
       "      <td>True</td>\n",
       "      <td>False</td>\n",
       "      <td>True</td>\n",
       "      <td>False</td>\n",
       "      <td>False</td>\n",
       "      <td>True</td>\n",
       "      <td>False</td>\n",
       "    </tr>\n",
       "    <tr>\n",
       "      <th>3</th>\n",
       "      <td>2023</td>\n",
       "      <td>False</td>\n",
       "      <td>False</td>\n",
       "      <td>False</td>\n",
       "      <td>True</td>\n",
       "      <td>False</td>\n",
       "      <td>False</td>\n",
       "      <td>True</td>\n",
       "      <td>False</td>\n",
       "      <td>False</td>\n",
       "      <td>...</td>\n",
       "      <td>False</td>\n",
       "      <td>False</td>\n",
       "      <td>False</td>\n",
       "      <td>True</td>\n",
       "      <td>False</td>\n",
       "      <td>True</td>\n",
       "      <td>False</td>\n",
       "      <td>False</td>\n",
       "      <td>True</td>\n",
       "      <td>False</td>\n",
       "    </tr>\n",
       "    <tr>\n",
       "      <th>4</th>\n",
       "      <td>2023</td>\n",
       "      <td>False</td>\n",
       "      <td>False</td>\n",
       "      <td>False</td>\n",
       "      <td>True</td>\n",
       "      <td>False</td>\n",
       "      <td>False</td>\n",
       "      <td>True</td>\n",
       "      <td>False</td>\n",
       "      <td>False</td>\n",
       "      <td>...</td>\n",
       "      <td>False</td>\n",
       "      <td>False</td>\n",
       "      <td>False</td>\n",
       "      <td>True</td>\n",
       "      <td>False</td>\n",
       "      <td>True</td>\n",
       "      <td>False</td>\n",
       "      <td>False</td>\n",
       "      <td>True</td>\n",
       "      <td>False</td>\n",
       "    </tr>\n",
       "  </tbody>\n",
       "</table>\n",
       "<p>5 rows × 210 columns</p>\n",
       "</div>"
      ],
      "text/plain": [
       "   work_year  experience_level_0  experience_level_1  experience_level_2  \\\n",
       "0       2023               False               False                True   \n",
       "1       2023               False               False               False   \n",
       "2       2023               False               False               False   \n",
       "3       2023               False               False               False   \n",
       "4       2023               False               False               False   \n",
       "\n",
       "   experience_level_3  employment_type_0  employment_type_1  \\\n",
       "0               False              False              False   \n",
       "1                True              False              False   \n",
       "2                True              False              False   \n",
       "3                True              False              False   \n",
       "4                True              False              False   \n",
       "\n",
       "   employment_type_2  employment_type_3  job_title_0  ...  \\\n",
       "0               True              False        False  ...   \n",
       "1               True              False        False  ...   \n",
       "2               True              False        False  ...   \n",
       "3               True              False        False  ...   \n",
       "4               True              False        False  ...   \n",
       "\n",
       "   company_location_66  company_location_67  company_location_68  \\\n",
       "0                False                False                False   \n",
       "1                False                False                False   \n",
       "2                False                False                False   \n",
       "3                False                False                False   \n",
       "4                False                False                False   \n",
       "\n",
       "   company_location_69  company_size_0  company_size_1  company_size_2  \\\n",
       "0                False            True           False           False   \n",
       "1                 True           False            True           False   \n",
       "2                 True           False            True           False   \n",
       "3                 True           False            True           False   \n",
       "4                 True           False            True           False   \n",
       "\n",
       "   work_setting_Hybrid  work_setting_In-person  work_setting_Remote  \n",
       "0                 True                   False                False  \n",
       "1                False                    True                False  \n",
       "2                False                    True                False  \n",
       "3                False                    True                False  \n",
       "4                False                    True                False  \n",
       "\n",
       "[5 rows x 210 columns]"
      ]
     },
     "execution_count": 144,
     "metadata": {},
     "output_type": "execute_result"
    }
   ],
   "source": [
    "X.head()"
   ]
  },
  {
   "cell_type": "code",
   "execution_count": 145,
   "id": "71edab4b",
   "metadata": {},
   "outputs": [
    {
     "name": "stdout",
     "output_type": "stream",
     "text": [
      "Selected feature names: ['company_location_2', 'company_location_7', 'company_location_18', 'company_location_19', 'company_location_41']\n"
     ]
    }
   ],
   "source": [
    "from sklearn.feature_selection import SelectKBest\n",
    "from sklearn.feature_selection import chi2\n",
    "\n",
    "# Perform feature selection using SelectKBest\n",
    "k_best_selector = SelectKBest(score_func=chi2, k=5)  # Select top 2 features\n",
    "X_selected = k_best_selector.fit_transform(X, y)\n",
    "feature_names = X.columns\n",
    "\n",
    "# Get selected feature names\n",
    "selected_feature_indices = k_best_selector.get_support(indices=True)\n",
    "selected_feature_names = [feature_names[i] for i in selected_feature_indices]\n",
    "\n",
    "print(\"Selected feature names:\", selected_feature_names)"
   ]
  },
  {
   "cell_type": "markdown",
   "id": "abf00285",
   "metadata": {
    "papermill": {
     "duration": 0.019758,
     "end_time": "2023-09-01T14:05:01.070004",
     "exception": false,
     "start_time": "2023-09-01T14:05:01.050246",
     "status": "completed"
    },
    "tags": []
   },
   "source": [
    "# **The XGBoost Model**"
   ]
  },
  {
   "cell_type": "code",
   "execution_count": 146,
   "id": "8a10b740",
   "metadata": {
    "execution": {
     "iopub.execute_input": "2023-09-01T14:05:01.111839Z",
     "iopub.status.busy": "2023-09-01T14:05:01.110880Z",
     "iopub.status.idle": "2023-09-01T14:05:15.758394Z",
     "shell.execute_reply": "2023-09-01T14:05:15.756887Z"
    },
    "papermill": {
     "duration": 14.672042,
     "end_time": "2023-09-01T14:05:15.761851",
     "exception": false,
     "start_time": "2023-09-01T14:05:01.089809",
     "status": "completed"
    },
    "tags": []
   },
   "outputs": [
    {
     "name": "stdout",
     "output_type": "stream",
     "text": [
      "Requirement already satisfied: xgboost in d:\\second sem\\bia\\project\\venv\\lib\\site-packages (2.0.3)\n",
      "Requirement already satisfied: numpy in d:\\second sem\\bia\\project\\venv\\lib\\site-packages (from xgboost) (1.26.4)\n",
      "Requirement already satisfied: scipy in d:\\second sem\\bia\\project\\venv\\lib\\site-packages (from xgboost) (1.13.0)\n",
      "Note: you may need to restart the kernel to use updated packages.\n"
     ]
    },
    {
     "name": "stderr",
     "output_type": "stream",
     "text": [
      "\n",
      "[notice] A new release of pip is available: 23.2.1 -> 24.0\n",
      "[notice] To update, run: python.exe -m pip install --upgrade pip\n"
     ]
    }
   ],
   "source": [
    "pip install xgboost"
   ]
  },
  {
   "cell_type": "code",
   "execution_count": 147,
   "id": "a1185781",
   "metadata": {
    "execution": {
     "iopub.execute_input": "2023-09-01T14:05:15.803628Z",
     "iopub.status.busy": "2023-09-01T14:05:15.803198Z",
     "iopub.status.idle": "2023-09-01T14:05:16.694089Z",
     "shell.execute_reply": "2023-09-01T14:05:16.693127Z"
    },
    "papermill": {
     "duration": 0.91503,
     "end_time": "2023-09-01T14:05:16.696815",
     "exception": false,
     "start_time": "2023-09-01T14:05:15.781785",
     "status": "completed"
    },
    "tags": []
   },
   "outputs": [],
   "source": [
    "#import pandas as pd\n",
    "#import numpy as np\n",
    "#from sklearn.model_selection import train_test_split\n",
    "#from sklearn.metrics import mean_squared_error, r2_score\n",
    "#import xgboost as xgb\n",
    "\n",
    "# Prepare the features (X) and the target variable (y)\n",
    "#X = df_one_hot.drop(['salary_in_usd'], axis=1)\n",
    "#y = df_one_hot['salary_in_usd']"
   ]
  },
  {
   "cell_type": "code",
   "execution_count": 148,
   "id": "7287d748",
   "metadata": {},
   "outputs": [
    {
     "data": {
      "text/plain": [
       "Index(['work_year', 'experience_level_0', 'experience_level_1',\n",
       "       'experience_level_2', 'experience_level_3', 'employment_type_0',\n",
       "       'employment_type_1', 'employment_type_2', 'employment_type_3',\n",
       "       'job_title_0',\n",
       "       ...\n",
       "       'company_location_66', 'company_location_67', 'company_location_68',\n",
       "       'company_location_69', 'company_size_0', 'company_size_1',\n",
       "       'company_size_2', 'work_setting_Hybrid', 'work_setting_In-person',\n",
       "       'work_setting_Remote'],\n",
       "      dtype='object', length=210)"
      ]
     },
     "execution_count": 148,
     "metadata": {},
     "output_type": "execute_result"
    }
   ],
   "source": [
    "X.columns"
   ]
  },
  {
   "cell_type": "code",
   "execution_count": 149,
   "id": "0a4243c4",
   "metadata": {},
   "outputs": [
    {
     "data": {
      "text/plain": [
       "0     95012\n",
       "1    186000\n",
       "2     81800\n",
       "3    212000\n",
       "4     93300\n",
       "Name: salary_in_usd, dtype: int64"
      ]
     },
     "execution_count": 149,
     "metadata": {},
     "output_type": "execute_result"
    }
   ],
   "source": [
    "y.head()"
   ]
  },
  {
   "cell_type": "code",
   "execution_count": 150,
   "id": "0ddc6866",
   "metadata": {},
   "outputs": [],
   "source": [
    "# Split the data into training and testing sets\n",
    "X_train, X_test, y_train, y_test = train_test_split(X, y, test_size=0.2, random_state=42)"
   ]
  },
  {
   "cell_type": "code",
   "execution_count": 151,
   "id": "8bd20b1b",
   "metadata": {},
   "outputs": [
    {
     "data": {
      "text/html": [
       "<div>\n",
       "<style scoped>\n",
       "    .dataframe tbody tr th:only-of-type {\n",
       "        vertical-align: middle;\n",
       "    }\n",
       "\n",
       "    .dataframe tbody tr th {\n",
       "        vertical-align: top;\n",
       "    }\n",
       "\n",
       "    .dataframe thead th {\n",
       "        text-align: right;\n",
       "    }\n",
       "</style>\n",
       "<table border=\"1\" class=\"dataframe\">\n",
       "  <thead>\n",
       "    <tr style=\"text-align: right;\">\n",
       "      <th></th>\n",
       "      <th>work_year</th>\n",
       "      <th>experience_level_0</th>\n",
       "      <th>experience_level_1</th>\n",
       "      <th>experience_level_2</th>\n",
       "      <th>experience_level_3</th>\n",
       "      <th>employment_type_0</th>\n",
       "      <th>employment_type_1</th>\n",
       "      <th>employment_type_2</th>\n",
       "      <th>employment_type_3</th>\n",
       "      <th>job_title_0</th>\n",
       "      <th>...</th>\n",
       "      <th>company_location_66</th>\n",
       "      <th>company_location_67</th>\n",
       "      <th>company_location_68</th>\n",
       "      <th>company_location_69</th>\n",
       "      <th>company_size_0</th>\n",
       "      <th>company_size_1</th>\n",
       "      <th>company_size_2</th>\n",
       "      <th>work_setting_Hybrid</th>\n",
       "      <th>work_setting_In-person</th>\n",
       "      <th>work_setting_Remote</th>\n",
       "    </tr>\n",
       "  </thead>\n",
       "  <tbody>\n",
       "    <tr>\n",
       "      <th>4071</th>\n",
       "      <td>2023</td>\n",
       "      <td>False</td>\n",
       "      <td>False</td>\n",
       "      <td>True</td>\n",
       "      <td>False</td>\n",
       "      <td>False</td>\n",
       "      <td>False</td>\n",
       "      <td>True</td>\n",
       "      <td>False</td>\n",
       "      <td>False</td>\n",
       "      <td>...</td>\n",
       "      <td>False</td>\n",
       "      <td>False</td>\n",
       "      <td>False</td>\n",
       "      <td>False</td>\n",
       "      <td>False</td>\n",
       "      <td>True</td>\n",
       "      <td>False</td>\n",
       "      <td>False</td>\n",
       "      <td>True</td>\n",
       "      <td>False</td>\n",
       "    </tr>\n",
       "    <tr>\n",
       "      <th>3025</th>\n",
       "      <td>2023</td>\n",
       "      <td>False</td>\n",
       "      <td>False</td>\n",
       "      <td>False</td>\n",
       "      <td>True</td>\n",
       "      <td>False</td>\n",
       "      <td>False</td>\n",
       "      <td>True</td>\n",
       "      <td>False</td>\n",
       "      <td>False</td>\n",
       "      <td>...</td>\n",
       "      <td>False</td>\n",
       "      <td>False</td>\n",
       "      <td>False</td>\n",
       "      <td>True</td>\n",
       "      <td>False</td>\n",
       "      <td>True</td>\n",
       "      <td>False</td>\n",
       "      <td>False</td>\n",
       "      <td>True</td>\n",
       "      <td>False</td>\n",
       "    </tr>\n",
       "    <tr>\n",
       "      <th>3127</th>\n",
       "      <td>2023</td>\n",
       "      <td>False</td>\n",
       "      <td>False</td>\n",
       "      <td>True</td>\n",
       "      <td>False</td>\n",
       "      <td>False</td>\n",
       "      <td>False</td>\n",
       "      <td>True</td>\n",
       "      <td>False</td>\n",
       "      <td>False</td>\n",
       "      <td>...</td>\n",
       "      <td>False</td>\n",
       "      <td>False</td>\n",
       "      <td>False</td>\n",
       "      <td>True</td>\n",
       "      <td>False</td>\n",
       "      <td>True</td>\n",
       "      <td>False</td>\n",
       "      <td>False</td>\n",
       "      <td>True</td>\n",
       "      <td>False</td>\n",
       "    </tr>\n",
       "    <tr>\n",
       "      <th>3019</th>\n",
       "      <td>2023</td>\n",
       "      <td>False</td>\n",
       "      <td>False</td>\n",
       "      <td>False</td>\n",
       "      <td>True</td>\n",
       "      <td>False</td>\n",
       "      <td>False</td>\n",
       "      <td>True</td>\n",
       "      <td>False</td>\n",
       "      <td>False</td>\n",
       "      <td>...</td>\n",
       "      <td>False</td>\n",
       "      <td>False</td>\n",
       "      <td>False</td>\n",
       "      <td>True</td>\n",
       "      <td>False</td>\n",
       "      <td>True</td>\n",
       "      <td>False</td>\n",
       "      <td>False</td>\n",
       "      <td>True</td>\n",
       "      <td>False</td>\n",
       "    </tr>\n",
       "    <tr>\n",
       "      <th>5288</th>\n",
       "      <td>2023</td>\n",
       "      <td>False</td>\n",
       "      <td>False</td>\n",
       "      <td>False</td>\n",
       "      <td>True</td>\n",
       "      <td>False</td>\n",
       "      <td>False</td>\n",
       "      <td>True</td>\n",
       "      <td>False</td>\n",
       "      <td>False</td>\n",
       "      <td>...</td>\n",
       "      <td>False</td>\n",
       "      <td>False</td>\n",
       "      <td>False</td>\n",
       "      <td>True</td>\n",
       "      <td>False</td>\n",
       "      <td>True</td>\n",
       "      <td>False</td>\n",
       "      <td>False</td>\n",
       "      <td>True</td>\n",
       "      <td>False</td>\n",
       "    </tr>\n",
       "  </tbody>\n",
       "</table>\n",
       "<p>5 rows × 210 columns</p>\n",
       "</div>"
      ],
      "text/plain": [
       "      work_year  experience_level_0  experience_level_1  experience_level_2  \\\n",
       "4071       2023               False               False                True   \n",
       "3025       2023               False               False               False   \n",
       "3127       2023               False               False                True   \n",
       "3019       2023               False               False               False   \n",
       "5288       2023               False               False               False   \n",
       "\n",
       "      experience_level_3  employment_type_0  employment_type_1  \\\n",
       "4071               False              False              False   \n",
       "3025                True              False              False   \n",
       "3127               False              False              False   \n",
       "3019                True              False              False   \n",
       "5288                True              False              False   \n",
       "\n",
       "      employment_type_2  employment_type_3  job_title_0  ...  \\\n",
       "4071               True              False        False  ...   \n",
       "3025               True              False        False  ...   \n",
       "3127               True              False        False  ...   \n",
       "3019               True              False        False  ...   \n",
       "5288               True              False        False  ...   \n",
       "\n",
       "      company_location_66  company_location_67  company_location_68  \\\n",
       "4071                False                False                False   \n",
       "3025                False                False                False   \n",
       "3127                False                False                False   \n",
       "3019                False                False                False   \n",
       "5288                False                False                False   \n",
       "\n",
       "      company_location_69  company_size_0  company_size_1  company_size_2  \\\n",
       "4071                False           False            True           False   \n",
       "3025                 True           False            True           False   \n",
       "3127                 True           False            True           False   \n",
       "3019                 True           False            True           False   \n",
       "5288                 True           False            True           False   \n",
       "\n",
       "      work_setting_Hybrid  work_setting_In-person  work_setting_Remote  \n",
       "4071                False                    True                False  \n",
       "3025                False                    True                False  \n",
       "3127                False                    True                False  \n",
       "3019                False                    True                False  \n",
       "5288                False                    True                False  \n",
       "\n",
       "[5 rows x 210 columns]"
      ]
     },
     "execution_count": 151,
     "metadata": {},
     "output_type": "execute_result"
    }
   ],
   "source": [
    "X_train.head()"
   ]
  },
  {
   "cell_type": "code",
   "execution_count": 152,
   "id": "61bd7049",
   "metadata": {},
   "outputs": [
    {
     "data": {
      "text/html": [
       "<style>#sk-container-id-4 {\n",
       "  /* Definition of color scheme common for light and dark mode */\n",
       "  --sklearn-color-text: black;\n",
       "  --sklearn-color-line: gray;\n",
       "  /* Definition of color scheme for unfitted estimators */\n",
       "  --sklearn-color-unfitted-level-0: #fff5e6;\n",
       "  --sklearn-color-unfitted-level-1: #f6e4d2;\n",
       "  --sklearn-color-unfitted-level-2: #ffe0b3;\n",
       "  --sklearn-color-unfitted-level-3: chocolate;\n",
       "  /* Definition of color scheme for fitted estimators */\n",
       "  --sklearn-color-fitted-level-0: #f0f8ff;\n",
       "  --sklearn-color-fitted-level-1: #d4ebff;\n",
       "  --sklearn-color-fitted-level-2: #b3dbfd;\n",
       "  --sklearn-color-fitted-level-3: cornflowerblue;\n",
       "\n",
       "  /* Specific color for light theme */\n",
       "  --sklearn-color-text-on-default-background: var(--sg-text-color, var(--theme-code-foreground, var(--jp-content-font-color1, black)));\n",
       "  --sklearn-color-background: var(--sg-background-color, var(--theme-background, var(--jp-layout-color0, white)));\n",
       "  --sklearn-color-border-box: var(--sg-text-color, var(--theme-code-foreground, var(--jp-content-font-color1, black)));\n",
       "  --sklearn-color-icon: #696969;\n",
       "\n",
       "  @media (prefers-color-scheme: dark) {\n",
       "    /* Redefinition of color scheme for dark theme */\n",
       "    --sklearn-color-text-on-default-background: var(--sg-text-color, var(--theme-code-foreground, var(--jp-content-font-color1, white)));\n",
       "    --sklearn-color-background: var(--sg-background-color, var(--theme-background, var(--jp-layout-color0, #111)));\n",
       "    --sklearn-color-border-box: var(--sg-text-color, var(--theme-code-foreground, var(--jp-content-font-color1, white)));\n",
       "    --sklearn-color-icon: #878787;\n",
       "  }\n",
       "}\n",
       "\n",
       "#sk-container-id-4 {\n",
       "  color: var(--sklearn-color-text);\n",
       "}\n",
       "\n",
       "#sk-container-id-4 pre {\n",
       "  padding: 0;\n",
       "}\n",
       "\n",
       "#sk-container-id-4 input.sk-hidden--visually {\n",
       "  border: 0;\n",
       "  clip: rect(1px 1px 1px 1px);\n",
       "  clip: rect(1px, 1px, 1px, 1px);\n",
       "  height: 1px;\n",
       "  margin: -1px;\n",
       "  overflow: hidden;\n",
       "  padding: 0;\n",
       "  position: absolute;\n",
       "  width: 1px;\n",
       "}\n",
       "\n",
       "#sk-container-id-4 div.sk-dashed-wrapped {\n",
       "  border: 1px dashed var(--sklearn-color-line);\n",
       "  margin: 0 0.4em 0.5em 0.4em;\n",
       "  box-sizing: border-box;\n",
       "  padding-bottom: 0.4em;\n",
       "  background-color: var(--sklearn-color-background);\n",
       "}\n",
       "\n",
       "#sk-container-id-4 div.sk-container {\n",
       "  /* jupyter's `normalize.less` sets `[hidden] { display: none; }`\n",
       "     but bootstrap.min.css set `[hidden] { display: none !important; }`\n",
       "     so we also need the `!important` here to be able to override the\n",
       "     default hidden behavior on the sphinx rendered scikit-learn.org.\n",
       "     See: https://github.com/scikit-learn/scikit-learn/issues/21755 */\n",
       "  display: inline-block !important;\n",
       "  position: relative;\n",
       "}\n",
       "\n",
       "#sk-container-id-4 div.sk-text-repr-fallback {\n",
       "  display: none;\n",
       "}\n",
       "\n",
       "div.sk-parallel-item,\n",
       "div.sk-serial,\n",
       "div.sk-item {\n",
       "  /* draw centered vertical line to link estimators */\n",
       "  background-image: linear-gradient(var(--sklearn-color-text-on-default-background), var(--sklearn-color-text-on-default-background));\n",
       "  background-size: 2px 100%;\n",
       "  background-repeat: no-repeat;\n",
       "  background-position: center center;\n",
       "}\n",
       "\n",
       "/* Parallel-specific style estimator block */\n",
       "\n",
       "#sk-container-id-4 div.sk-parallel-item::after {\n",
       "  content: \"\";\n",
       "  width: 100%;\n",
       "  border-bottom: 2px solid var(--sklearn-color-text-on-default-background);\n",
       "  flex-grow: 1;\n",
       "}\n",
       "\n",
       "#sk-container-id-4 div.sk-parallel {\n",
       "  display: flex;\n",
       "  align-items: stretch;\n",
       "  justify-content: center;\n",
       "  background-color: var(--sklearn-color-background);\n",
       "  position: relative;\n",
       "}\n",
       "\n",
       "#sk-container-id-4 div.sk-parallel-item {\n",
       "  display: flex;\n",
       "  flex-direction: column;\n",
       "}\n",
       "\n",
       "#sk-container-id-4 div.sk-parallel-item:first-child::after {\n",
       "  align-self: flex-end;\n",
       "  width: 50%;\n",
       "}\n",
       "\n",
       "#sk-container-id-4 div.sk-parallel-item:last-child::after {\n",
       "  align-self: flex-start;\n",
       "  width: 50%;\n",
       "}\n",
       "\n",
       "#sk-container-id-4 div.sk-parallel-item:only-child::after {\n",
       "  width: 0;\n",
       "}\n",
       "\n",
       "/* Serial-specific style estimator block */\n",
       "\n",
       "#sk-container-id-4 div.sk-serial {\n",
       "  display: flex;\n",
       "  flex-direction: column;\n",
       "  align-items: center;\n",
       "  background-color: var(--sklearn-color-background);\n",
       "  padding-right: 1em;\n",
       "  padding-left: 1em;\n",
       "}\n",
       "\n",
       "\n",
       "/* Toggleable style: style used for estimator/Pipeline/ColumnTransformer box that is\n",
       "clickable and can be expanded/collapsed.\n",
       "- Pipeline and ColumnTransformer use this feature and define the default style\n",
       "- Estimators will overwrite some part of the style using the `sk-estimator` class\n",
       "*/\n",
       "\n",
       "/* Pipeline and ColumnTransformer style (default) */\n",
       "\n",
       "#sk-container-id-4 div.sk-toggleable {\n",
       "  /* Default theme specific background. It is overwritten whether we have a\n",
       "  specific estimator or a Pipeline/ColumnTransformer */\n",
       "  background-color: var(--sklearn-color-background);\n",
       "}\n",
       "\n",
       "/* Toggleable label */\n",
       "#sk-container-id-4 label.sk-toggleable__label {\n",
       "  cursor: pointer;\n",
       "  display: block;\n",
       "  width: 100%;\n",
       "  margin-bottom: 0;\n",
       "  padding: 0.5em;\n",
       "  box-sizing: border-box;\n",
       "  text-align: center;\n",
       "}\n",
       "\n",
       "#sk-container-id-4 label.sk-toggleable__label-arrow:before {\n",
       "  /* Arrow on the left of the label */\n",
       "  content: \"▸\";\n",
       "  float: left;\n",
       "  margin-right: 0.25em;\n",
       "  color: var(--sklearn-color-icon);\n",
       "}\n",
       "\n",
       "#sk-container-id-4 label.sk-toggleable__label-arrow:hover:before {\n",
       "  color: var(--sklearn-color-text);\n",
       "}\n",
       "\n",
       "/* Toggleable content - dropdown */\n",
       "\n",
       "#sk-container-id-4 div.sk-toggleable__content {\n",
       "  max-height: 0;\n",
       "  max-width: 0;\n",
       "  overflow: hidden;\n",
       "  text-align: left;\n",
       "  /* unfitted */\n",
       "  background-color: var(--sklearn-color-unfitted-level-0);\n",
       "}\n",
       "\n",
       "#sk-container-id-4 div.sk-toggleable__content.fitted {\n",
       "  /* fitted */\n",
       "  background-color: var(--sklearn-color-fitted-level-0);\n",
       "}\n",
       "\n",
       "#sk-container-id-4 div.sk-toggleable__content pre {\n",
       "  margin: 0.2em;\n",
       "  border-radius: 0.25em;\n",
       "  color: var(--sklearn-color-text);\n",
       "  /* unfitted */\n",
       "  background-color: var(--sklearn-color-unfitted-level-0);\n",
       "}\n",
       "\n",
       "#sk-container-id-4 div.sk-toggleable__content.fitted pre {\n",
       "  /* unfitted */\n",
       "  background-color: var(--sklearn-color-fitted-level-0);\n",
       "}\n",
       "\n",
       "#sk-container-id-4 input.sk-toggleable__control:checked~div.sk-toggleable__content {\n",
       "  /* Expand drop-down */\n",
       "  max-height: 200px;\n",
       "  max-width: 100%;\n",
       "  overflow: auto;\n",
       "}\n",
       "\n",
       "#sk-container-id-4 input.sk-toggleable__control:checked~label.sk-toggleable__label-arrow:before {\n",
       "  content: \"▾\";\n",
       "}\n",
       "\n",
       "/* Pipeline/ColumnTransformer-specific style */\n",
       "\n",
       "#sk-container-id-4 div.sk-label input.sk-toggleable__control:checked~label.sk-toggleable__label {\n",
       "  color: var(--sklearn-color-text);\n",
       "  background-color: var(--sklearn-color-unfitted-level-2);\n",
       "}\n",
       "\n",
       "#sk-container-id-4 div.sk-label.fitted input.sk-toggleable__control:checked~label.sk-toggleable__label {\n",
       "  background-color: var(--sklearn-color-fitted-level-2);\n",
       "}\n",
       "\n",
       "/* Estimator-specific style */\n",
       "\n",
       "/* Colorize estimator box */\n",
       "#sk-container-id-4 div.sk-estimator input.sk-toggleable__control:checked~label.sk-toggleable__label {\n",
       "  /* unfitted */\n",
       "  background-color: var(--sklearn-color-unfitted-level-2);\n",
       "}\n",
       "\n",
       "#sk-container-id-4 div.sk-estimator.fitted input.sk-toggleable__control:checked~label.sk-toggleable__label {\n",
       "  /* fitted */\n",
       "  background-color: var(--sklearn-color-fitted-level-2);\n",
       "}\n",
       "\n",
       "#sk-container-id-4 div.sk-label label.sk-toggleable__label,\n",
       "#sk-container-id-4 div.sk-label label {\n",
       "  /* The background is the default theme color */\n",
       "  color: var(--sklearn-color-text-on-default-background);\n",
       "}\n",
       "\n",
       "/* On hover, darken the color of the background */\n",
       "#sk-container-id-4 div.sk-label:hover label.sk-toggleable__label {\n",
       "  color: var(--sklearn-color-text);\n",
       "  background-color: var(--sklearn-color-unfitted-level-2);\n",
       "}\n",
       "\n",
       "/* Label box, darken color on hover, fitted */\n",
       "#sk-container-id-4 div.sk-label.fitted:hover label.sk-toggleable__label.fitted {\n",
       "  color: var(--sklearn-color-text);\n",
       "  background-color: var(--sklearn-color-fitted-level-2);\n",
       "}\n",
       "\n",
       "/* Estimator label */\n",
       "\n",
       "#sk-container-id-4 div.sk-label label {\n",
       "  font-family: monospace;\n",
       "  font-weight: bold;\n",
       "  display: inline-block;\n",
       "  line-height: 1.2em;\n",
       "}\n",
       "\n",
       "#sk-container-id-4 div.sk-label-container {\n",
       "  text-align: center;\n",
       "}\n",
       "\n",
       "/* Estimator-specific */\n",
       "#sk-container-id-4 div.sk-estimator {\n",
       "  font-family: monospace;\n",
       "  border: 1px dotted var(--sklearn-color-border-box);\n",
       "  border-radius: 0.25em;\n",
       "  box-sizing: border-box;\n",
       "  margin-bottom: 0.5em;\n",
       "  /* unfitted */\n",
       "  background-color: var(--sklearn-color-unfitted-level-0);\n",
       "}\n",
       "\n",
       "#sk-container-id-4 div.sk-estimator.fitted {\n",
       "  /* fitted */\n",
       "  background-color: var(--sklearn-color-fitted-level-0);\n",
       "}\n",
       "\n",
       "/* on hover */\n",
       "#sk-container-id-4 div.sk-estimator:hover {\n",
       "  /* unfitted */\n",
       "  background-color: var(--sklearn-color-unfitted-level-2);\n",
       "}\n",
       "\n",
       "#sk-container-id-4 div.sk-estimator.fitted:hover {\n",
       "  /* fitted */\n",
       "  background-color: var(--sklearn-color-fitted-level-2);\n",
       "}\n",
       "\n",
       "/* Specification for estimator info (e.g. \"i\" and \"?\") */\n",
       "\n",
       "/* Common style for \"i\" and \"?\" */\n",
       "\n",
       ".sk-estimator-doc-link,\n",
       "a:link.sk-estimator-doc-link,\n",
       "a:visited.sk-estimator-doc-link {\n",
       "  float: right;\n",
       "  font-size: smaller;\n",
       "  line-height: 1em;\n",
       "  font-family: monospace;\n",
       "  background-color: var(--sklearn-color-background);\n",
       "  border-radius: 1em;\n",
       "  height: 1em;\n",
       "  width: 1em;\n",
       "  text-decoration: none !important;\n",
       "  margin-left: 1ex;\n",
       "  /* unfitted */\n",
       "  border: var(--sklearn-color-unfitted-level-1) 1pt solid;\n",
       "  color: var(--sklearn-color-unfitted-level-1);\n",
       "}\n",
       "\n",
       ".sk-estimator-doc-link.fitted,\n",
       "a:link.sk-estimator-doc-link.fitted,\n",
       "a:visited.sk-estimator-doc-link.fitted {\n",
       "  /* fitted */\n",
       "  border: var(--sklearn-color-fitted-level-1) 1pt solid;\n",
       "  color: var(--sklearn-color-fitted-level-1);\n",
       "}\n",
       "\n",
       "/* On hover */\n",
       "div.sk-estimator:hover .sk-estimator-doc-link:hover,\n",
       ".sk-estimator-doc-link:hover,\n",
       "div.sk-label-container:hover .sk-estimator-doc-link:hover,\n",
       ".sk-estimator-doc-link:hover {\n",
       "  /* unfitted */\n",
       "  background-color: var(--sklearn-color-unfitted-level-3);\n",
       "  color: var(--sklearn-color-background);\n",
       "  text-decoration: none;\n",
       "}\n",
       "\n",
       "div.sk-estimator.fitted:hover .sk-estimator-doc-link.fitted:hover,\n",
       ".sk-estimator-doc-link.fitted:hover,\n",
       "div.sk-label-container:hover .sk-estimator-doc-link.fitted:hover,\n",
       ".sk-estimator-doc-link.fitted:hover {\n",
       "  /* fitted */\n",
       "  background-color: var(--sklearn-color-fitted-level-3);\n",
       "  color: var(--sklearn-color-background);\n",
       "  text-decoration: none;\n",
       "}\n",
       "\n",
       "/* Span, style for the box shown on hovering the info icon */\n",
       ".sk-estimator-doc-link span {\n",
       "  display: none;\n",
       "  z-index: 9999;\n",
       "  position: relative;\n",
       "  font-weight: normal;\n",
       "  right: .2ex;\n",
       "  padding: .5ex;\n",
       "  margin: .5ex;\n",
       "  width: min-content;\n",
       "  min-width: 20ex;\n",
       "  max-width: 50ex;\n",
       "  color: var(--sklearn-color-text);\n",
       "  box-shadow: 2pt 2pt 4pt #999;\n",
       "  /* unfitted */\n",
       "  background: var(--sklearn-color-unfitted-level-0);\n",
       "  border: .5pt solid var(--sklearn-color-unfitted-level-3);\n",
       "}\n",
       "\n",
       ".sk-estimator-doc-link.fitted span {\n",
       "  /* fitted */\n",
       "  background: var(--sklearn-color-fitted-level-0);\n",
       "  border: var(--sklearn-color-fitted-level-3);\n",
       "}\n",
       "\n",
       ".sk-estimator-doc-link:hover span {\n",
       "  display: block;\n",
       "}\n",
       "\n",
       "/* \"?\"-specific style due to the `<a>` HTML tag */\n",
       "\n",
       "#sk-container-id-4 a.estimator_doc_link {\n",
       "  float: right;\n",
       "  font-size: 1rem;\n",
       "  line-height: 1em;\n",
       "  font-family: monospace;\n",
       "  background-color: var(--sklearn-color-background);\n",
       "  border-radius: 1rem;\n",
       "  height: 1rem;\n",
       "  width: 1rem;\n",
       "  text-decoration: none;\n",
       "  /* unfitted */\n",
       "  color: var(--sklearn-color-unfitted-level-1);\n",
       "  border: var(--sklearn-color-unfitted-level-1) 1pt solid;\n",
       "}\n",
       "\n",
       "#sk-container-id-4 a.estimator_doc_link.fitted {\n",
       "  /* fitted */\n",
       "  border: var(--sklearn-color-fitted-level-1) 1pt solid;\n",
       "  color: var(--sklearn-color-fitted-level-1);\n",
       "}\n",
       "\n",
       "/* On hover */\n",
       "#sk-container-id-4 a.estimator_doc_link:hover {\n",
       "  /* unfitted */\n",
       "  background-color: var(--sklearn-color-unfitted-level-3);\n",
       "  color: var(--sklearn-color-background);\n",
       "  text-decoration: none;\n",
       "}\n",
       "\n",
       "#sk-container-id-4 a.estimator_doc_link.fitted:hover {\n",
       "  /* fitted */\n",
       "  background-color: var(--sklearn-color-fitted-level-3);\n",
       "}\n",
       "</style><div id=\"sk-container-id-4\" class=\"sk-top-container\"><div class=\"sk-text-repr-fallback\"><pre>XGBRegressor(alpha=10, base_score=None, booster=None, callbacks=None,\n",
       "             colsample_bylevel=None, colsample_bynode=None,\n",
       "             colsample_bytree=0.3, device=None, early_stopping_rounds=None,\n",
       "             enable_categorical=False, eval_metric=None, feature_types=None,\n",
       "             gamma=None, grow_policy=None, importance_type=None,\n",
       "             interaction_constraints=None, learning_rate=0.1, max_bin=None,\n",
       "             max_cat_threshold=None, max_cat_to_onehot=None,\n",
       "             max_delta_step=None, max_depth=None, max_leaves=None,\n",
       "             min_child_weight=None, missing=nan, monotone_constraints=None,\n",
       "             multi_strategy=None, n_estimators=100, n_jobs=None,\n",
       "             num_parallel_tree=None, ...)</pre><b>In a Jupyter environment, please rerun this cell to show the HTML representation or trust the notebook. <br />On GitHub, the HTML representation is unable to render, please try loading this page with nbviewer.org.</b></div><div class=\"sk-container\" hidden><div class=\"sk-item\"><div class=\"sk-estimator fitted sk-toggleable\"><input class=\"sk-toggleable__control sk-hidden--visually\" id=\"sk-estimator-id-4\" type=\"checkbox\" checked><label for=\"sk-estimator-id-4\" class=\"sk-toggleable__label fitted sk-toggleable__label-arrow fitted\">&nbsp;XGBRegressor<span class=\"sk-estimator-doc-link fitted\">i<span>Fitted</span></span></label><div class=\"sk-toggleable__content fitted\"><pre>XGBRegressor(alpha=10, base_score=None, booster=None, callbacks=None,\n",
       "             colsample_bylevel=None, colsample_bynode=None,\n",
       "             colsample_bytree=0.3, device=None, early_stopping_rounds=None,\n",
       "             enable_categorical=False, eval_metric=None, feature_types=None,\n",
       "             gamma=None, grow_policy=None, importance_type=None,\n",
       "             interaction_constraints=None, learning_rate=0.1, max_bin=None,\n",
       "             max_cat_threshold=None, max_cat_to_onehot=None,\n",
       "             max_delta_step=None, max_depth=None, max_leaves=None,\n",
       "             min_child_weight=None, missing=nan, monotone_constraints=None,\n",
       "             multi_strategy=None, n_estimators=100, n_jobs=None,\n",
       "             num_parallel_tree=None, ...)</pre></div> </div></div></div></div>"
      ],
      "text/plain": [
       "XGBRegressor(alpha=10, base_score=None, booster=None, callbacks=None,\n",
       "             colsample_bylevel=None, colsample_bynode=None,\n",
       "             colsample_bytree=0.3, device=None, early_stopping_rounds=None,\n",
       "             enable_categorical=False, eval_metric=None, feature_types=None,\n",
       "             gamma=None, grow_policy=None, importance_type=None,\n",
       "             interaction_constraints=None, learning_rate=0.1, max_bin=None,\n",
       "             max_cat_threshold=None, max_cat_to_onehot=None,\n",
       "             max_delta_step=None, max_depth=None, max_leaves=None,\n",
       "             min_child_weight=None, missing=nan, monotone_constraints=None,\n",
       "             multi_strategy=None, n_estimators=100, n_jobs=None,\n",
       "             num_parallel_tree=None, ...)"
      ]
     },
     "execution_count": 152,
     "metadata": {},
     "output_type": "execute_result"
    }
   ],
   "source": [
    "# Initialize XGBoost and train the model\n",
    "xg_reg = xgb.XGBRegressor(objective ='reg:squarederror', colsample_bytree = 0.3, learning_rate = 0.1, alpha = 10, n_estimators = 100)\n",
    "xg_reg.fit(X_train, y_train)"
   ]
  },
  {
   "cell_type": "code",
   "execution_count": 153,
   "id": "e5735333",
   "metadata": {},
   "outputs": [
    {
     "name": "stdout",
     "output_type": "stream",
     "text": [
      "Linear Regression: MSE = 3.579069172278316e+32, MAE = 1108770191726700.9, R-squared = -8.630216166835503e+22\n",
      "Ridge Regression: MSE = 2664115353.3490853, MAE = 39170.08744897763, R-squared = 0.3576013682308328\n",
      "Lasso Regression: MSE = 2681000529.878707, MAE = 39260.662543965926, R-squared = 0.3535298424666897\n",
      "Random Forest Regression: MSE = 2669686339.329669, MAE = 38854.553237530745, R-squared = 0.3562580353428506\n",
      "Gradient Boosting Regression: MSE = 2719634649.83056, MAE = 39607.68774462861, R-squared = 0.34421398992093677\n",
      "XGBoost Regression: MSE = 2597272964.2825027, MAE = 38452.102409619685, R-squared = 0.3737190859665064\n"
     ]
    }
   ],
   "source": [
    "from sklearn.model_selection import train_test_split\n",
    "from sklearn.linear_model import LinearRegression, Ridge, Lasso\n",
    "from sklearn.ensemble import RandomForestRegressor, GradientBoostingRegressor\n",
    "from xgboost import XGBRegressor\n",
    "from sklearn.metrics import mean_squared_error, mean_absolute_error, r2_score\n",
    "\n",
    "# Split data into training and testing sets\n",
    "X_train, X_test, y_train, y_test = train_test_split(X, y, test_size=0.2, random_state=42)\n",
    "\n",
    "# Define regression algorithms to evaluate\n",
    "regressors = {\n",
    "    \"Linear Regression\": LinearRegression(),\n",
    "    \"Ridge Regression\": Ridge(),\n",
    "    \"Lasso Regression\": Lasso(),\n",
    "    \"Random Forest Regression\": RandomForestRegressor(),\n",
    "    \"Gradient Boosting Regression\": GradientBoostingRegressor(),\n",
    "    \"XGBoost Regression\": XGBRegressor()  # Add XGBoost regressor\n",
    "}\n",
    "\n",
    "# Train and evaluate each model\n",
    "for name, regressor in regressors.items():\n",
    "    regressor.fit(X_train, y_train)\n",
    "    y_pred = regressor.predict(X_test)\n",
    "    mse = mean_squared_error(y_test, y_pred)\n",
    "    mae = mean_absolute_error(y_test, y_pred)\n",
    "    r2 = r2_score(y_test, y_pred)\n",
    "    print(f\"{name}: MSE = {mse}, MAE = {mae}, R-squared = {r2}\")\n"
   ]
  },
  {
   "cell_type": "markdown",
   "id": "71a7592a",
   "metadata": {},
   "source": [
    "Based on the provided evaluation metrics (MSE, MAE, R-squared), the best-performing regression algorithm appears to be the Random Forest Regression, followed closely by the XGBoost Regression. Here's a summary of the results:\n",
    "\n",
    "Random Forest Regression:\n",
    "\n",
    "MSE = 2,662,753,218.12\n",
    "MAE = 38,921.97\n",
    "R-squared = 0.3579\n",
    "XGBoost Regression:\n",
    "\n",
    "MSE = 2,701,481,801.32\n",
    "MAE = 39,012.20\n",
    "R-squared = 0.3486\n",
    "These models have lower MSE and MAE values compared to the other regression algorithms, indicating smaller prediction errors. Additionally, they also have higher R-squared values, suggesting better goodness-of-fit to the data.\n",
    "\n",
    "Therefore, based on these metrics, either the Random Forest Regression or the XGBoost Regression would be a good choice for predicting salaries, with a slight preference towards the Random Forest Regression due to its slightly better performance in terms of MSE and R-squared. "
   ]
  },
  {
   "cell_type": "code",
   "execution_count": 154,
   "id": "26e40f61",
   "metadata": {},
   "outputs": [
    {
     "name": "stdout",
     "output_type": "stream",
     "text": [
      "RMSE: 51358.79871194169\n",
      "R2 Score: 0.3639645884591832\n"
     ]
    }
   ],
   "source": [
    "# Make predictions\n",
    "y_pred = xg_reg.predict(X_test)\n",
    "\n",
    "# Evaluate the model\n",
    "rmse = np.sqrt(mean_squared_error(y_test, y_pred))\n",
    "r2 = r2_score(y_test, y_pred)\n",
    "\n",
    "print(f\"RMSE: {rmse}\")\n",
    "print(f\"R2 Score: {r2}\")"
   ]
  },
  {
   "cell_type": "markdown",
   "id": "6fc39bc4",
   "metadata": {
    "papermill": {
     "duration": 0.019691,
     "end_time": "2023-09-01T14:05:16.737597",
     "exception": false,
     "start_time": "2023-09-01T14:05:16.717906",
     "status": "completed"
    },
    "tags": []
   },
   "source": [
    "# **Predicting Your Own Salary**"
   ]
  },
  {
   "cell_type": "markdown",
   "id": "a3ce6a92",
   "metadata": {
    "papermill": {
     "duration": 0.019393,
     "end_time": "2023-09-01T14:05:16.776644",
     "exception": false,
     "start_time": "2023-09-01T14:05:16.757251",
     "status": "completed"
    },
    "tags": []
   },
   "source": [
    "**Possible Options for Prediction (Refer to Dataset to Understand Values)**"
   ]
  },
  {
   "cell_type": "code",
   "execution_count": 155,
   "id": "357225db",
   "metadata": {
    "execution": {
     "iopub.execute_input": "2023-09-01T14:05:16.817845Z",
     "iopub.status.busy": "2023-09-01T14:05:16.817398Z",
     "iopub.status.idle": "2023-09-01T14:05:16.826478Z",
     "shell.execute_reply": "2023-09-01T14:05:16.825245Z"
    },
    "papermill": {
     "duration": 0.032684,
     "end_time": "2023-09-01T14:05:16.828753",
     "exception": false,
     "start_time": "2023-09-01T14:05:16.796069",
     "status": "completed"
    },
    "tags": []
   },
   "outputs": [
    {
     "name": "stdout",
     "output_type": "stream",
     "text": [
      "Unique values for experience_level:  [2 3 1 0]\n",
      "Unique values for employment_type:  [2 3 0 1]\n",
      "Unique values for job_title:  [ 42  41  69 102  44  96  35   7  12  18  25 119 117 118  64  60  58 103\n",
      "   2  94  78  52  59  62  22   1  51  93  63  85  15  49  99  71  16  46\n",
      "  26  47  67  24   4  48  50   0  66  72  27  97  61  80  21  77  84  73\n",
      "  32  76  88  75  81  39  14  43 114  65 122  45 104 100   5  87   9   3\n",
      "  54  11  38  55  98  91 115 113 111  86 124 123  34 105  23  56  92 107\n",
      "  53  83 121 101  31  57  29   8 110   6 116  95  74  13 120  10  82  20\n",
      "  89  17  30  79  40  19  33 109 106  36  68  70 108  37  28  90 112]\n",
      "Unique values for company_location:  [23 69 68 11 61 32 59 50 22 45 39 38 51 25  5 14 66 58 54 26 28 37 42 55\n",
      " 34 60 20 16 10 53 36 17 24 62 65 63  2 18 43 33 47 56  3 35 12 21 57 15\n",
      "  4  9 48 30  7  6 52  1 64 49  8 19 29 67 40 27  0 31 13 46 44 41]\n",
      "Unique values for company_size:  [0 1 2]\n"
     ]
    }
   ],
   "source": [
    "# Print unique values for each categorical column\n",
    "print(\"Unique values for experience_level: \", df['experience_level'].unique())\n",
    "print(\"Unique values for employment_type: \", df['employment_type'].unique())\n",
    "print(\"Unique values for job_title: \", df['job_title'].unique())\n",
    "print(\"Unique values for company_location: \", df['company_location'].unique())\n",
    "print(\"Unique values for company_size: \", df['company_size'].unique())"
   ]
  },
  {
   "cell_type": "markdown",
   "id": "c42359f2",
   "metadata": {
    "papermill": {
     "duration": 0.019389,
     "end_time": "2023-09-01T14:05:16.867510",
     "exception": false,
     "start_time": "2023-09-01T14:05:16.848121",
     "status": "completed"
    },
    "tags": []
   },
   "source": [
    "**Predicting Salary Algorithm**"
   ]
  },
  {
   "cell_type": "code",
   "execution_count": 156,
   "id": "ed623c55",
   "metadata": {
    "execution": {
     "iopub.execute_input": "2023-09-01T14:05:16.908816Z",
     "iopub.status.busy": "2023-09-01T14:05:16.908379Z",
     "iopub.status.idle": "2023-09-01T14:05:16.917335Z",
     "shell.execute_reply": "2023-09-01T14:05:16.916362Z"
    },
    "papermill": {
     "duration": 0.032292,
     "end_time": "2023-09-01T14:05:16.919584",
     "exception": false,
     "start_time": "2023-09-01T14:05:16.887292",
     "status": "completed"
    },
    "tags": []
   },
   "outputs": [],
   "source": [
    "import pandas as pd\n",
    "import warnings\n",
    "\n",
    "def predict_salary(xg_reg, X_train, experience_level, employment_type, job_title, company_location, company_size):\n",
    "    new_row = {\n",
    "        f'experience_level_{experience_level}': 1,\n",
    "        f'employment_type_{employment_type}': 1,\n",
    "        f'job_title_{job_title}': 1,\n",
    "        f'company_location_{company_location}': 1,\n",
    "        f'company_size_{company_size}': 1\n",
    "    }\n",
    "    \n",
    "    input_df = pd.DataFrame([new_row])\n",
    "    \n",
    "    with warnings.catch_warnings():\n",
    "        warnings.simplefilter(\"ignore\")\n",
    "        for col in X_train.columns:\n",
    "            if col not in input_df.columns:\n",
    "                input_df[col] = 0\n",
    "    \n",
    "    input_df = input_df[X_train.columns]\n",
    "    salary_pred = xg_reg.predict(input_df)\n",
    "    \n",
    "    return f\"Predicted Salary in USD: {salary_pred[0]}\""
   ]
  },
  {
   "cell_type": "markdown",
   "id": "59954e5d",
   "metadata": {
    "papermill": {
     "duration": 0.019643,
     "end_time": "2023-09-01T14:05:16.959265",
     "exception": false,
     "start_time": "2023-09-01T14:05:16.939622",
     "status": "completed"
    },
    "tags": []
   },
   "source": [
    "# **Plug in Your Own Numbers!**"
   ]
  },
  {
   "cell_type": "code",
   "execution_count": 157,
   "id": "f5d5342b",
   "metadata": {
    "execution": {
     "iopub.execute_input": "2023-09-01T14:05:17.001448Z",
     "iopub.status.busy": "2023-09-01T14:05:17.000851Z",
     "iopub.status.idle": "2023-09-01T14:05:17.077693Z",
     "shell.execute_reply": "2023-09-01T14:05:17.076800Z"
    },
    "papermill": {
     "duration": 0.100846,
     "end_time": "2023-09-01T14:05:17.080355",
     "exception": false,
     "start_time": "2023-09-01T14:05:16.979509",
     "status": "completed"
    },
    "tags": []
   },
   "outputs": [
    {
     "name": "stdout",
     "output_type": "stream",
     "text": [
      "Predicted Salary in USD: 185647.65625\n"
     ]
    }
   ],
   "source": [
    "# Assuming xg_reg is your trained model and X_train is your DataFrame of training data\n",
    "predicted_salary = predict_salary(\n",
    "    xg_reg=xg_reg,\n",
    "    X_train=X_train,\n",
    "    experience_level='0',\n",
    "    employment_type='2',\n",
    "    job_title='8',\n",
    "    company_location='20',\n",
    "    company_size='1'\n",
    ")\n",
    "print(predicted_salary)"
   ]
  },
  {
   "cell_type": "code",
   "execution_count": 158,
   "id": "28492ab6",
   "metadata": {},
   "outputs": [
    {
     "name": "stdout",
     "output_type": "stream",
     "text": [
      "Predicted Salary in USD: 258408.921875\n"
     ]
    }
   ],
   "source": [
    "# Assuming xg_reg is your trained model and X_train is your DataFrame of training data\n",
    "predicted_salary = predict_salary(\n",
    "    xg_reg=xg_reg,\n",
    "    X_train=X_train,\n",
    "    experience_level='3',\n",
    "    employment_type='3',\n",
    "    job_title='8',\n",
    "    company_location='40',\n",
    "    company_size='4'\n",
    ")\n",
    "\n",
    "print(predicted_salary)"
   ]
  },
  {
   "cell_type": "markdown",
   "id": "ee3962f3",
   "metadata": {},
   "source": [
    "## Saving the model"
   ]
  },
  {
   "cell_type": "code",
   "execution_count": 159,
   "id": "c766b080",
   "metadata": {},
   "outputs": [
    {
     "data": {
      "text/plain": [
       "['xgreg_model.pkl']"
      ]
     },
     "execution_count": 159,
     "metadata": {},
     "output_type": "execute_result"
    }
   ],
   "source": [
    "import joblib\n",
    "\n",
    "# Save the model using joblib\n",
    "joblib.dump(xg_reg, 'xgreg_model.pkl')"
   ]
  }
 ],
 "metadata": {
  "kernelspec": {
   "display_name": "Python 3",
   "language": "python",
   "name": "python3"
  },
  "language_info": {
   "codemirror_mode": {
    "name": "ipython",
    "version": 3
   },
   "file_extension": ".py",
   "mimetype": "text/x-python",
   "name": "python",
   "nbconvert_exporter": "python",
   "pygments_lexer": "ipython3",
   "version": "3.11.4"
  },
  "papermill": {
   "default_parameters": {},
   "duration": 28.695618,
   "end_time": "2023-09-01T14:05:17.721601",
   "environment_variables": {},
   "exception": null,
   "input_path": "__notebook__.ipynb",
   "output_path": "__notebook__.ipynb",
   "parameters": {},
   "start_time": "2023-09-01T14:04:49.025983",
   "version": "2.4.0"
  }
 },
 "nbformat": 4,
 "nbformat_minor": 5
}
